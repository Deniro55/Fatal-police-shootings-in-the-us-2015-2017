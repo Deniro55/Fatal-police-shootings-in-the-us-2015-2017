{
 "cells": [
  {
   "cell_type": "markdown",
   "metadata": {},
   "source": [
    "# Fatal Police Shootings in the US #"
   ]
  },
  {
   "cell_type": "markdown",
   "metadata": {},
   "source": [
    "## 1. Introduction"
   ]
  },
  {
   "cell_type": "markdown",
   "metadata": {},
   "source": [
    "*** BERA SAMAN HVAÐ ÞAÐ BUA MARGIR EÐA ÞU VEIST, BERA SAMAN HVERSU MARGIR HVÍTIR ERU OG HVERSU MARGIR SVARTIR, til að geta gert minoritie kjaftæði\n",
    "\n",
    "In the years 2015, 2016, and 2017 there were 2945 people involved in a fatal police shooting in the United states according to [The Washington Post](https://www.washingtonpost.com/graphics/national/police-shootings/).  \n",
    "Where we have 995 people killed in 2015, 963 people killed in 2016, and 987 people killed in 2017. As we can see from those numbers there is little change from years in police fatal shootings.  \n",
    "In this report we will dive deeper into this, and try to answer the question in which city it is best to live in to avoid fatal police shootings."
   ]
  },
  {
   "cell_type": "markdown",
   "metadata": {},
   "source": [
    "## 2. About"
   ]
  },
  {
   "cell_type": "markdown",
   "metadata": {},
   "source": [
    "### 2.1 Data\n",
    "The data used for measurement is recieved from kaggle [fatal police shootings in the us](https://www.kaggle.com/kwullum/fatal-police-shootings-in-the-us/version/1)  \n",
    "This source includes data about police shootings in the United States but also has an additional information regarding various information about the incident. The dataset also contains information about the city the incident occurred in, such as median income, percentages of how many completed high school and race division  of the cities."
   ]
  },
  {
   "cell_type": "markdown",
   "metadata": {},
   "source": [
    "## 3. Preparing the data"
   ]
  },
  {
   "cell_type": "markdown",
   "metadata": {},
   "source": [
    "### 3.2 Import the necessary libraries"
   ]
  },
  {
   "cell_type": "code",
   "execution_count": 1,
   "metadata": {},
   "outputs": [],
   "source": [
    "# Necessary imports\n",
    "import pandas as pd\n",
    "import numpy as np\n",
    "from matplotlib import pyplot as plt"
   ]
  },
  {
   "cell_type": "markdown",
   "metadata": {},
   "source": [
    "### 3.3 Import the data sets"
   ]
  },
  {
   "cell_type": "code",
   "execution_count": 2,
   "metadata": {},
   "outputs": [],
   "source": [
    "# Read the datasets\n",
    "shootings_df = pd.read_csv('resources/PoliceKillingsUS.csv',encoding=\"windows-1252\",parse_dates=[2])\n",
    "medianIncome_df = pd.read_csv('resources/MedianHouseholdIncome2015.csv',encoding=\"windows-1252\")\n",
    "povertyLevel_df = pd.read_csv('resources/PercentagePeopleBelowPovertyLevel.csv',encoding=\"windows-1252\")\n",
    "completedHighschool_df = pd.read_csv('resources/PercentOver25CompletedHighSchool.csv',encoding=\"windows-1252\")\n",
    "raceByCity_df = pd.read_csv('resources/ShareRaceByCity.csv',encoding=\"windows-1252\")\n",
    "\n",
    "#shootings_df.head(10)"
   ]
  },
  {
   "cell_type": "markdown",
   "metadata": {},
   "source": [
    "## 4. Fatal shootings without ** correlation **"
   ]
  },
  {
   "cell_type": "markdown",
   "metadata": {},
   "source": [
    "### 4.1 Visulation of police shootings sorted by races "
   ]
  },
  {
   "cell_type": "markdown",
   "metadata": {},
   "source": [
    "To show the difference between the races that are killed in police shootings from the data set we have desided to plot a pie chart which shows the percentages of each race involved in fatal police shootings."
   ]
  },
  {
   "cell_type": "code",
   "execution_count": 3,
   "metadata": {},
   "outputs": [
    {
     "data": {
      "text/html": [
       "<div>\n",
       "<style scoped>\n",
       "    .dataframe tbody tr th:only-of-type {\n",
       "        vertical-align: middle;\n",
       "    }\n",
       "\n",
       "    .dataframe tbody tr th {\n",
       "        vertical-align: top;\n",
       "    }\n",
       "\n",
       "    .dataframe thead th {\n",
       "        text-align: right;\n",
       "    }\n",
       "</style>\n",
       "<table border=\"1\" class=\"dataframe\">\n",
       "  <thead>\n",
       "    <tr style=\"text-align: right;\">\n",
       "      <th></th>\n",
       "      <th>date</th>\n",
       "      <th>manner_of_death</th>\n",
       "      <th>armed</th>\n",
       "      <th>age</th>\n",
       "      <th>gender</th>\n",
       "      <th>race</th>\n",
       "      <th>city</th>\n",
       "      <th>state</th>\n",
       "      <th>signs_of_mental_illness</th>\n",
       "      <th>threat_level</th>\n",
       "      <th>flee</th>\n",
       "      <th>body_camera</th>\n",
       "    </tr>\n",
       "  </thead>\n",
       "  <tbody>\n",
       "    <tr>\n",
       "      <th>0</th>\n",
       "      <td>2015-02-01</td>\n",
       "      <td>shot</td>\n",
       "      <td>gun</td>\n",
       "      <td>53.0</td>\n",
       "      <td>M</td>\n",
       "      <td>A</td>\n",
       "      <td>Shelton</td>\n",
       "      <td>WA</td>\n",
       "      <td>True</td>\n",
       "      <td>attack</td>\n",
       "      <td>Not fleeing</td>\n",
       "      <td>False</td>\n",
       "    </tr>\n",
       "    <tr>\n",
       "      <th>1</th>\n",
       "      <td>2015-02-01</td>\n",
       "      <td>shot</td>\n",
       "      <td>gun</td>\n",
       "      <td>47.0</td>\n",
       "      <td>M</td>\n",
       "      <td>W</td>\n",
       "      <td>Aloha</td>\n",
       "      <td>OR</td>\n",
       "      <td>False</td>\n",
       "      <td>attack</td>\n",
       "      <td>Not fleeing</td>\n",
       "      <td>False</td>\n",
       "    </tr>\n",
       "    <tr>\n",
       "      <th>2</th>\n",
       "      <td>2015-03-01</td>\n",
       "      <td>shot and Tasered</td>\n",
       "      <td>unarmed</td>\n",
       "      <td>23.0</td>\n",
       "      <td>M</td>\n",
       "      <td>H</td>\n",
       "      <td>Wichita</td>\n",
       "      <td>KS</td>\n",
       "      <td>False</td>\n",
       "      <td>other</td>\n",
       "      <td>Not fleeing</td>\n",
       "      <td>False</td>\n",
       "    </tr>\n",
       "    <tr>\n",
       "      <th>3</th>\n",
       "      <td>2015-04-01</td>\n",
       "      <td>shot</td>\n",
       "      <td>toy weapon</td>\n",
       "      <td>32.0</td>\n",
       "      <td>M</td>\n",
       "      <td>W</td>\n",
       "      <td>San Francisco</td>\n",
       "      <td>CA</td>\n",
       "      <td>True</td>\n",
       "      <td>attack</td>\n",
       "      <td>Not fleeing</td>\n",
       "      <td>False</td>\n",
       "    </tr>\n",
       "    <tr>\n",
       "      <th>4</th>\n",
       "      <td>2015-04-01</td>\n",
       "      <td>shot</td>\n",
       "      <td>nail gun</td>\n",
       "      <td>39.0</td>\n",
       "      <td>M</td>\n",
       "      <td>H</td>\n",
       "      <td>Evans</td>\n",
       "      <td>CO</td>\n",
       "      <td>False</td>\n",
       "      <td>attack</td>\n",
       "      <td>Not fleeing</td>\n",
       "      <td>False</td>\n",
       "    </tr>\n",
       "    <tr>\n",
       "      <th>5</th>\n",
       "      <td>2015-04-01</td>\n",
       "      <td>shot</td>\n",
       "      <td>gun</td>\n",
       "      <td>18.0</td>\n",
       "      <td>M</td>\n",
       "      <td>W</td>\n",
       "      <td>Guthrie</td>\n",
       "      <td>OK</td>\n",
       "      <td>False</td>\n",
       "      <td>attack</td>\n",
       "      <td>Not fleeing</td>\n",
       "      <td>False</td>\n",
       "    </tr>\n",
       "    <tr>\n",
       "      <th>6</th>\n",
       "      <td>2015-05-01</td>\n",
       "      <td>shot</td>\n",
       "      <td>gun</td>\n",
       "      <td>22.0</td>\n",
       "      <td>M</td>\n",
       "      <td>H</td>\n",
       "      <td>Chandler</td>\n",
       "      <td>AZ</td>\n",
       "      <td>False</td>\n",
       "      <td>attack</td>\n",
       "      <td>Car</td>\n",
       "      <td>False</td>\n",
       "    </tr>\n",
       "    <tr>\n",
       "      <th>7</th>\n",
       "      <td>2015-06-01</td>\n",
       "      <td>shot</td>\n",
       "      <td>gun</td>\n",
       "      <td>35.0</td>\n",
       "      <td>M</td>\n",
       "      <td>W</td>\n",
       "      <td>Assaria</td>\n",
       "      <td>KS</td>\n",
       "      <td>False</td>\n",
       "      <td>attack</td>\n",
       "      <td>Not fleeing</td>\n",
       "      <td>False</td>\n",
       "    </tr>\n",
       "    <tr>\n",
       "      <th>8</th>\n",
       "      <td>2015-06-01</td>\n",
       "      <td>shot</td>\n",
       "      <td>unarmed</td>\n",
       "      <td>34.0</td>\n",
       "      <td>F</td>\n",
       "      <td>W</td>\n",
       "      <td>Burlington</td>\n",
       "      <td>IA</td>\n",
       "      <td>False</td>\n",
       "      <td>other</td>\n",
       "      <td>Not fleeing</td>\n",
       "      <td>True</td>\n",
       "    </tr>\n",
       "    <tr>\n",
       "      <th>9</th>\n",
       "      <td>2015-06-01</td>\n",
       "      <td>shot</td>\n",
       "      <td>toy weapon</td>\n",
       "      <td>47.0</td>\n",
       "      <td>M</td>\n",
       "      <td>B</td>\n",
       "      <td>Knoxville</td>\n",
       "      <td>PA</td>\n",
       "      <td>False</td>\n",
       "      <td>attack</td>\n",
       "      <td>Not fleeing</td>\n",
       "      <td>False</td>\n",
       "    </tr>\n",
       "  </tbody>\n",
       "</table>\n",
       "</div>"
      ],
      "text/plain": [
       "        date   manner_of_death       armed   age gender race           city  \\\n",
       "0 2015-02-01              shot         gun  53.0      M    A        Shelton   \n",
       "1 2015-02-01              shot         gun  47.0      M    W          Aloha   \n",
       "2 2015-03-01  shot and Tasered     unarmed  23.0      M    H        Wichita   \n",
       "3 2015-04-01              shot  toy weapon  32.0      M    W  San Francisco   \n",
       "4 2015-04-01              shot    nail gun  39.0      M    H          Evans   \n",
       "5 2015-04-01              shot         gun  18.0      M    W        Guthrie   \n",
       "6 2015-05-01              shot         gun  22.0      M    H       Chandler   \n",
       "7 2015-06-01              shot         gun  35.0      M    W        Assaria   \n",
       "8 2015-06-01              shot     unarmed  34.0      F    W     Burlington   \n",
       "9 2015-06-01              shot  toy weapon  47.0      M    B      Knoxville   \n",
       "\n",
       "  state  signs_of_mental_illness threat_level         flee  body_camera  \n",
       "0    WA                     True       attack  Not fleeing        False  \n",
       "1    OR                    False       attack  Not fleeing        False  \n",
       "2    KS                    False        other  Not fleeing        False  \n",
       "3    CA                     True       attack  Not fleeing        False  \n",
       "4    CO                    False       attack  Not fleeing        False  \n",
       "5    OK                    False       attack  Not fleeing        False  \n",
       "6    AZ                    False       attack          Car        False  \n",
       "7    KS                    False       attack  Not fleeing        False  \n",
       "8    IA                    False        other  Not fleeing         True  \n",
       "9    PA                    False       attack  Not fleeing        False  "
      ]
     },
     "execution_count": 3,
     "metadata": {},
     "output_type": "execute_result"
    }
   ],
   "source": [
    "# We have no use for the id and name columns so we desided to remove them\n",
    "shootings_df = shootings_df.drop(['id','name'], axis=1)\n",
    "# show the first 10 rows in the data frame\n",
    "shootings_df.head(10) "
   ]
  },
  {
   "cell_type": "code",
   "execution_count": 4,
   "metadata": {},
   "outputs": [],
   "source": [
    "def raceLabelToRace(raceLabel):\n",
    "    if(raceLabel == 'W'):\n",
    "        return 'White'\n",
    "    if(raceLabel == 'B'):\n",
    "        return 'Black'\n",
    "    if(raceLabel == 'N'):\n",
    "        return 'Native American'\n",
    "    if(raceLabel == 'A'):\n",
    "        return 'Asian'\n",
    "    if(raceLabel == 'H'):\n",
    "        return 'Hispanic'\n",
    "    else:\n",
    "        return 'Other'"
   ]
  },
  {
   "cell_type": "code",
   "execution_count": 5,
   "metadata": {},
   "outputs": [
    {
     "data": {
      "image/png": "[encoded data removed]",
      "text/plain": [
       "<Figure size 504x504 with 1 Axes>"
      ]
     },
     "metadata": {},
     "output_type": "display_data"
    }
   ],
   "source": [
    "# Race rates  \n",
    "\n",
    "shootings_df['race'].dropna(inplace = True)\n",
    "labels = shootings_df['race'].value_counts().index\n",
    "# Change the labels we have to words, for easier reading\n",
    "labels = [raceLabelToRace(x) for x in labels]\n",
    "colors = ['#47ACB1', '#F26522', '#F9AA7B', '#FFCD34','#FFE8AF','#676766']\n",
    "values = shootings_df['race'].value_counts().values\n",
    "\n",
    "# Plotting the pie chart\n",
    "plt.figure(figsize = (7, 7))\n",
    "plt.pie(values, labels = labels, colors = colors, autopct = '%1.1f%%')\n",
    "plt.title('Killed People According to Races', color = 'black', size = 20)\n",
    "plt.show()"
   ]
  },
  {
   "cell_type": "markdown",
   "metadata": {},
   "source": [
    "#### 4.1.1 Diving deeper into the race distribution"
   ]
  },
  {
   "cell_type": "markdown",
   "metadata": {},
   "source": [
    "As you can see from the pie chart above, the largest percentages of races involved in police shootings had white skin. The results may be surprising, but it makes sense because 61% of people living in the United States in the year 2017 have white skin according to [KFF Population Distribution by Race/Ethnicity](https://www.kff.org/other/state-indicator/distribution-by-raceethnicity/?currentTimeframe=0&sortModel=%7B%22colId%22:%22Location%22,%22sort%22:%22asc%22%7D)"
   ]
  },
  {
   "cell_type": "markdown",
   "metadata": {},
   "source": [
    "## Reikna út eithvað fjör svipað og hér  ..... [héééééééér...](https://www.vox.com/identities/2016/8/13/17938186/police-shootings-killings-racism-racial-disparities)"
   ]
  },
  {
   "cell_type": "markdown",
   "metadata": {},
   "source": [
    "## 4.2 Visulation of police shootings, weapons"
   ]
  },
  {
   "cell_type": "markdown",
   "metadata": {},
   "source": [
    "#### 4.2.1 All Weapons"
   ]
  },
  {
   "cell_type": "code",
   "execution_count": 6,
   "metadata": {},
   "outputs": [
    {
     "data": {
      "text/plain": [
       "<BarContainer object of 10 artists>"
      ]
     },
     "execution_count": 6,
     "metadata": {},
     "output_type": "execute_result"
    },
    {
     "data": {
      "image/png": "[encoded data removed]",
      "text/plain": [
       "<Figure size 1080x504 with 1 Axes>"
      ]
     },
     "metadata": {
      "needs_background": "light"
     },
     "output_type": "display_data"
    }
   ],
   "source": [
    "values = shootings_df['armed'].value_counts().values[:10]\n",
    "labels = shootings_df['armed'].value_counts().index.tolist()[:10]\n",
    "\n",
    "mpl_fig = plt.figure(figsize = (15, 7))\n",
    "ax = mpl_fig.add_subplot(111)\n",
    "\n",
    "ax.set_ylabel(\"Number of incidents\", fontsize=16)\n",
    "ax.set_xlabel(\"Weapon type\", fontsize=16)\n",
    "\n",
    "plt.bar(labels, values)"
   ]
  },
  {
   "cell_type": "markdown",
   "metadata": {},
   "source": [
    "#### Weapons sorted by age gap"
   ]
  },
  {
   "cell_type": "code",
   "execution_count": 7,
   "metadata": {},
   "outputs": [
    {
     "name": "stdout",
     "output_type": "stream",
     "text": [
      "(18, 36]    1299\n",
      "(36, 54]     791\n",
      "(54, 72]     241\n",
      "(0, 18]      105\n",
      "(72, 90]      21\n",
      "Name: age, dtype: int64\n",
      "(2535, 12)\n"
     ]
    },
    {
     "data": {
      "text/plain": [
       "<matplotlib.axes._subplots.AxesSubplot at 0x24cab228898>"
      ]
     },
     "execution_count": 7,
     "metadata": {},
     "output_type": "execute_result"
    },
    {
     "data": {
      "image/png": "[encoded data removed]",
      "text/plain": [
       "<Figure size 576x576 with 1 Axes>"
      ]
     },
     "metadata": {},
     "output_type": "display_data"
    }
   ],
   "source": [
    "ranges = [i for i in range(0,100,18)]\n",
    "#rangesLabels = [str(i) + '-' + str(i+10) for i in range(-25,35,10)]\n",
    "r=range(1,19)\n",
    "binCounter = pd.cut(shootings_df['age'],ranges).value_counts()\n",
    "print(binCounter)\n",
    "\n",
    "#values = shootings_df[shootings_df['age'] ==].value_counts().values[:10]\n",
    "labels = shootings_df['armed'].value_counts().index.tolist()[:10]\n",
    "print(shootings_df.shape)\n",
    "\n",
    "\n",
    "binCounter.plot.pie(figsize=(8, 8))"
   ]
  },
  {
   "cell_type": "code",
   "execution_count": 8,
   "metadata": {},
   "outputs": [
    {
     "data": {
      "text/html": [
       "<div>\n",
       "<style scoped>\n",
       "    .dataframe tbody tr th:only-of-type {\n",
       "        vertical-align: middle;\n",
       "    }\n",
       "\n",
       "    .dataframe tbody tr th {\n",
       "        vertical-align: top;\n",
       "    }\n",
       "\n",
       "    .dataframe thead th {\n",
       "        text-align: right;\n",
       "    }\n",
       "</style>\n",
       "<table border=\"1\" class=\"dataframe\">\n",
       "  <thead>\n",
       "    <tr style=\"text-align: right;\">\n",
       "      <th></th>\n",
       "      <th>date</th>\n",
       "      <th>manner_of_death</th>\n",
       "      <th>armed</th>\n",
       "      <th>age</th>\n",
       "      <th>gender</th>\n",
       "      <th>race</th>\n",
       "      <th>city</th>\n",
       "      <th>state</th>\n",
       "      <th>signs_of_mental_illness</th>\n",
       "      <th>threat_level</th>\n",
       "      <th>flee</th>\n",
       "      <th>body_camera</th>\n",
       "    </tr>\n",
       "  </thead>\n",
       "  <tbody>\n",
       "    <tr>\n",
       "      <th>0</th>\n",
       "      <td>2015-02-01</td>\n",
       "      <td>shot</td>\n",
       "      <td>gun</td>\n",
       "      <td>53.0</td>\n",
       "      <td>M</td>\n",
       "      <td>A</td>\n",
       "      <td>Shelton</td>\n",
       "      <td>WA</td>\n",
       "      <td>True</td>\n",
       "      <td>attack</td>\n",
       "      <td>Not fleeing</td>\n",
       "      <td>False</td>\n",
       "    </tr>\n",
       "    <tr>\n",
       "      <th>1</th>\n",
       "      <td>2015-02-01</td>\n",
       "      <td>shot</td>\n",
       "      <td>gun</td>\n",
       "      <td>47.0</td>\n",
       "      <td>M</td>\n",
       "      <td>W</td>\n",
       "      <td>Aloha</td>\n",
       "      <td>OR</td>\n",
       "      <td>False</td>\n",
       "      <td>attack</td>\n",
       "      <td>Not fleeing</td>\n",
       "      <td>False</td>\n",
       "    </tr>\n",
       "    <tr>\n",
       "      <th>2</th>\n",
       "      <td>2015-03-01</td>\n",
       "      <td>shot and Tasered</td>\n",
       "      <td>unarmed</td>\n",
       "      <td>23.0</td>\n",
       "      <td>M</td>\n",
       "      <td>H</td>\n",
       "      <td>Wichita</td>\n",
       "      <td>KS</td>\n",
       "      <td>False</td>\n",
       "      <td>other</td>\n",
       "      <td>Not fleeing</td>\n",
       "      <td>False</td>\n",
       "    </tr>\n",
       "    <tr>\n",
       "      <th>3</th>\n",
       "      <td>2015-04-01</td>\n",
       "      <td>shot</td>\n",
       "      <td>toy weapon</td>\n",
       "      <td>32.0</td>\n",
       "      <td>M</td>\n",
       "      <td>W</td>\n",
       "      <td>San Francisco</td>\n",
       "      <td>CA</td>\n",
       "      <td>True</td>\n",
       "      <td>attack</td>\n",
       "      <td>Not fleeing</td>\n",
       "      <td>False</td>\n",
       "    </tr>\n",
       "    <tr>\n",
       "      <th>4</th>\n",
       "      <td>2015-04-01</td>\n",
       "      <td>shot</td>\n",
       "      <td>nail gun</td>\n",
       "      <td>39.0</td>\n",
       "      <td>M</td>\n",
       "      <td>H</td>\n",
       "      <td>Evans</td>\n",
       "      <td>CO</td>\n",
       "      <td>False</td>\n",
       "      <td>attack</td>\n",
       "      <td>Not fleeing</td>\n",
       "      <td>False</td>\n",
       "    </tr>\n",
       "    <tr>\n",
       "      <th>5</th>\n",
       "      <td>2015-04-01</td>\n",
       "      <td>shot</td>\n",
       "      <td>gun</td>\n",
       "      <td>18.0</td>\n",
       "      <td>M</td>\n",
       "      <td>W</td>\n",
       "      <td>Guthrie</td>\n",
       "      <td>OK</td>\n",
       "      <td>False</td>\n",
       "      <td>attack</td>\n",
       "      <td>Not fleeing</td>\n",
       "      <td>False</td>\n",
       "    </tr>\n",
       "    <tr>\n",
       "      <th>6</th>\n",
       "      <td>2015-05-01</td>\n",
       "      <td>shot</td>\n",
       "      <td>gun</td>\n",
       "      <td>22.0</td>\n",
       "      <td>M</td>\n",
       "      <td>H</td>\n",
       "      <td>Chandler</td>\n",
       "      <td>AZ</td>\n",
       "      <td>False</td>\n",
       "      <td>attack</td>\n",
       "      <td>Car</td>\n",
       "      <td>False</td>\n",
       "    </tr>\n",
       "    <tr>\n",
       "      <th>7</th>\n",
       "      <td>2015-06-01</td>\n",
       "      <td>shot</td>\n",
       "      <td>gun</td>\n",
       "      <td>35.0</td>\n",
       "      <td>M</td>\n",
       "      <td>W</td>\n",
       "      <td>Assaria</td>\n",
       "      <td>KS</td>\n",
       "      <td>False</td>\n",
       "      <td>attack</td>\n",
       "      <td>Not fleeing</td>\n",
       "      <td>False</td>\n",
       "    </tr>\n",
       "    <tr>\n",
       "      <th>8</th>\n",
       "      <td>2015-06-01</td>\n",
       "      <td>shot</td>\n",
       "      <td>unarmed</td>\n",
       "      <td>34.0</td>\n",
       "      <td>F</td>\n",
       "      <td>W</td>\n",
       "      <td>Burlington</td>\n",
       "      <td>IA</td>\n",
       "      <td>False</td>\n",
       "      <td>other</td>\n",
       "      <td>Not fleeing</td>\n",
       "      <td>True</td>\n",
       "    </tr>\n",
       "    <tr>\n",
       "      <th>9</th>\n",
       "      <td>2015-06-01</td>\n",
       "      <td>shot</td>\n",
       "      <td>toy weapon</td>\n",
       "      <td>47.0</td>\n",
       "      <td>M</td>\n",
       "      <td>B</td>\n",
       "      <td>Knoxville</td>\n",
       "      <td>PA</td>\n",
       "      <td>False</td>\n",
       "      <td>attack</td>\n",
       "      <td>Not fleeing</td>\n",
       "      <td>False</td>\n",
       "    </tr>\n",
       "  </tbody>\n",
       "</table>\n",
       "</div>"
      ],
      "text/plain": [
       "        date   manner_of_death       armed   age gender race           city  \\\n",
       "0 2015-02-01              shot         gun  53.0      M    A        Shelton   \n",
       "1 2015-02-01              shot         gun  47.0      M    W          Aloha   \n",
       "2 2015-03-01  shot and Tasered     unarmed  23.0      M    H        Wichita   \n",
       "3 2015-04-01              shot  toy weapon  32.0      M    W  San Francisco   \n",
       "4 2015-04-01              shot    nail gun  39.0      M    H          Evans   \n",
       "5 2015-04-01              shot         gun  18.0      M    W        Guthrie   \n",
       "6 2015-05-01              shot         gun  22.0      M    H       Chandler   \n",
       "7 2015-06-01              shot         gun  35.0      M    W        Assaria   \n",
       "8 2015-06-01              shot     unarmed  34.0      F    W     Burlington   \n",
       "9 2015-06-01              shot  toy weapon  47.0      M    B      Knoxville   \n",
       "\n",
       "  state  signs_of_mental_illness threat_level         flee  body_camera  \n",
       "0    WA                     True       attack  Not fleeing        False  \n",
       "1    OR                    False       attack  Not fleeing        False  \n",
       "2    KS                    False        other  Not fleeing        False  \n",
       "3    CA                     True       attack  Not fleeing        False  \n",
       "4    CO                    False       attack  Not fleeing        False  \n",
       "5    OK                    False       attack  Not fleeing        False  \n",
       "6    AZ                    False       attack          Car        False  \n",
       "7    KS                    False       attack  Not fleeing        False  \n",
       "8    IA                    False        other  Not fleeing         True  \n",
       "9    PA                    False       attack  Not fleeing        False  "
      ]
     },
     "execution_count": 8,
     "metadata": {},
     "output_type": "execute_result"
    }
   ],
   "source": [
    "shootings_df.head(10)"
   ]
  },
  {
   "cell_type": "markdown",
   "metadata": {},
   "source": [
    "## 4.3 Visulation of police shootings sorted by age"
   ]
  },
  {
   "cell_type": "markdown",
   "metadata": {},
   "source": [
    "Lets take a better look at the age distribution"
   ]
  },
  {
   "cell_type": "code",
   "execution_count": 10,
   "metadata": {},
   "outputs": [
    {
     "name": "stdout",
     "output_type": "stream",
     "text": [
      "      age\n",
      "25.0  103\n",
      "36.0   91\n",
      "31.0   85\n",
      "29.0   83\n",
      "24.0   83\n",
      "33.0   78\n",
      "32.0   75\n",
      "35.0   74\n",
      "34.0   74\n",
      "30.0   74\n"
     ]
    },
    {
     "data": {
      "image/png": "[encoded data removed]",
      "text/plain": [
       "<Figure size 432x288 with 1 Axes>"
      ]
     },
     "metadata": {},
     "output_type": "display_data"
    }
   ],
   "source": [
    "#### TODO ####\n",
    "\n",
    "\n",
    "# Age rates\n",
    "values = shootings_df['age'].value_counts()\n",
    "\n",
    "# Get the 10 most\n",
    "b = pd.DataFrame(values.head(10))\n",
    "b.apply(pd.value_counts).plot.pie(subplots=True)\n",
    "print(b)"
   ]
  },
  {
   "cell_type": "markdown",
   "metadata": {},
   "source": [
    "4.3 Visulation of police shootings poverty level for each state"
   ]
  },
  {
   "cell_type": "code",
   "execution_count": 11,
   "metadata": {},
   "outputs": [
    {
     "data": {
      "image/png": "[encoded data removed]",
      "text/plain": [
       "<Figure size 1440x720 with 1 Axes>"
      ]
     },
     "metadata": {
      "needs_background": "light"
     },
     "output_type": "display_data"
    }
   ],
   "source": [
    "import seaborn as sns\n",
    "\n",
    "#in order to change '-' to '0'\n",
    "povertyLevel_df.poverty_rate.replace(['-'],0.0,inplace = True)\n",
    "#Change the data to float\n",
    "povertyLevel_df.poverty_rate = povertyLevel_df.poverty_rate.astype(float)\n",
    "#list of geographic area\n",
    "area_list = list(povertyLevel_df['Geographic Area'].unique())\n",
    "area_poverty_ratio = []\n",
    "\n",
    "for i in area_list:\n",
    "    #a : geographical area in the i index of the data frame\n",
    "    a = povertyLevel_df[povertyLevel_df['Geographic Area']==i] \n",
    "    area_poverty_rate = a.poverty_rate.mean()\n",
    "    area_poverty_ratio.append(area_poverty_rate)\n",
    "\n",
    "data = pd.DataFrame({'area_list' : area_list,'area_poverty_ratio' : area_poverty_ratio})\n",
    "new_index = (data['area_poverty_ratio'].sort_values(ascending = False)).index.values\n",
    "sorted_data = data.reindex(new_index)\n",
    "\n",
    "#visualization\n",
    "plt.figure(figsize = (20,10))\n",
    "sns.barplot(x=sorted_data['area_list'],y=sorted_data['area_poverty_ratio'])\n",
    "plt.xlabel = ('States')\n",
    "plt.ylabel = ('Poverty Rate')\n",
    "plt.title('Poverty Rate Given States')\n",
    "plt.show()\n"
   ]
  },
  {
   "cell_type": "code",
   "execution_count": null,
   "metadata": {},
   "outputs": [],
   "source": []
  },
  {
   "cell_type": "code",
   "execution_count": null,
   "metadata": {},
   "outputs": [],
   "source": []
  },
  {
   "cell_type": "code",
   "execution_count": null,
   "metadata": {},
   "outputs": [],
   "source": []
  },
  {
   "cell_type": "code",
   "execution_count": null,
   "metadata": {},
   "outputs": [],
   "source": []
  },
  {
   "cell_type": "code",
   "execution_count": null,
   "metadata": {},
   "outputs": [],
   "source": []
  },
  {
   "cell_type": "markdown",
   "metadata": {},
   "source": [
    "## 4. Data cleaning"
   ]
  },
  {
   "cell_type": "markdown",
   "metadata": {},
   "source": [
    "in the police-shootings file, we have attributes that are not relevant to us, when visualating the data:\n",
    "* we have the name of the person killed,\n",
    "* we also have some id\n",
    "\n",
    "so we will start by removing those columns"
   ]
  },
  {
   "cell_type": "code",
   "execution_count": 9,
   "metadata": {},
   "outputs": [
    {
     "name": "stdout",
     "output_type": "stream",
     "text": [
      "gun                                 1398\n",
      "knife                                373\n",
      "vehicle                              177\n",
      "unarmed                              171\n",
      "undetermined                         117\n",
      "toy weapon                           104\n",
      "unknown weapon                        18\n",
      "machete                               18\n",
      "Taser                                  9\n",
      "ax                                     9\n",
      "sword                                  8\n",
      "baseball bat                           8\n",
      "hammer                                 7\n",
      "box cutter                             7\n",
      "metal pipe                             7\n",
      "hatchet                                6\n",
      "crossbow                               6\n",
      "blunt object                           5\n",
      "screwdriver                            5\n",
      "gun and knife                          5\n",
      "rock                                   3\n",
      "metal stick                            3\n",
      "scissors                               3\n",
      "guns and explosives                    3\n",
      "baton                                  2\n",
      "shovel                                 2\n",
      "hatchet and gun                        2\n",
      "metal pole                             2\n",
      "brick                                  2\n",
      "piece of wood                          2\n",
      "                                    ... \n",
      "pole                                   1\n",
      "stapler                                1\n",
      "flagpole                               1\n",
      "motorcycle                             1\n",
      "garden tool                            1\n",
      "pick-axe                               1\n",
      "bean-bag gun                           1\n",
      "straight edge razor                    1\n",
      "machete and gun                        1\n",
      "air conditioner                        1\n",
      "glass shard                            1\n",
      "metal hand tool                        1\n",
      "pole and knife                         1\n",
      "contractor's level                     1\n",
      "flashlight                             1\n",
      "fireworks                              1\n",
      "metal rake                             1\n",
      "crowbar                                1\n",
      "nail gun                               1\n",
      "bayonet                                1\n",
      "spear                                  1\n",
      "carjack                                1\n",
      "pen                                    1\n",
      "chain                                  1\n",
      "baseball bat and bottle                1\n",
      "tire iron                              1\n",
      "lawn mower blade                       1\n",
      "baseball bat and fireplace poker       1\n",
      "oar                                    1\n",
      "cordless drill                         1\n",
      "Name: armed, Length: 68, dtype: int64\n"
     ]
    }
   ],
   "source": [
    "weapon = shootings_df['armed'].value_counts()\n",
    "print(weapon)"
   ]
  },
  {
   "cell_type": "markdown",
   "metadata": {},
   "source": [
    "* Mental_ilness vs threat_level vs armed"
   ]
  },
  {
   "cell_type": "code",
   "execution_count": null,
   "metadata": {},
   "outputs": [],
   "source": []
  }
 ],
 "metadata": {
  "kernelspec": {
   "display_name": "Python 3",
   "language": "python",
   "name": "python3"
  },
  "language_info": {
   "codemirror_mode": {
    "name": "ipython",
    "version": 3
   },
   "file_extension": ".py",
   "mimetype": "text/x-python",
   "name": "python",
   "nbconvert_exporter": "python",
   "pygments_lexer": "ipython3",
   "version": "3.7.1"
  }
 },
 "nbformat": 4,
 "nbformat_minor": 2
}
