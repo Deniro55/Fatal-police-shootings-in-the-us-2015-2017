{
 "cells": [
  {
   "cell_type": "markdown",
   "metadata": {},
   "source": [
    "# Fatal Police Shootings in the US #"
   ]
  },
  {
   "cell_type": "markdown",
   "metadata": {},
   "source": [
    "## 1. Introduction"
   ]
  },
  {
   "cell_type": "markdown",
   "metadata": {},
   "source": [
    "In the years 2015, 2016, and 2017 there were 2945 people involved in a fatal police shooting in the United states according to [The Washington Post](https://www.washingtonpost.com/graphics/national/police-shootings/).  \n",
    "Where we have 995 people killed in 2015, 963 people killed in 2016, and 987 people killed in 2017. As we can see from those numbers there is little change from years in police fatal shootings.  \n",
    "In this report we will dive deeper into this, and try to answer the question in which city it is best to live in to avoid fatal police shootings."
   ]
  },
  {
   "cell_type": "markdown",
   "metadata": {},
   "source": [
    "## 2. About"
   ]
  },
  {
   "cell_type": "markdown",
   "metadata": {},
   "source": [
    "### 2.1 Data\n",
    "The data used for measurement is recieved from kaggle [fatal police shootings in the us](https://www.kaggle.com/kwullum/fatal-police-shootings-in-the-us/version/1)  \n",
    "This source includes data about police shootings in the United States but also has an additional information regarding various information about the incident. The dataset also contains information about the city the incident occurred in, such as median income, percentages of how many completed high school and race division  of the cities."
   ]
  },
  {
   "cell_type": "markdown",
   "metadata": {},
   "source": [
    "## 3. Preparing the data"
   ]
  },
  {
   "cell_type": "markdown",
   "metadata": {},
   "source": [
    "### 3.2 Import the necessary libraries"
   ]
  },
  {
   "cell_type": "code",
   "execution_count": 1,
   "metadata": {},
   "outputs": [],
   "source": [
    "# Necessary imports\n",
    "import pandas as pd\n",
    "import numpy as np\n",
    "from matplotlib import pyplot as plt"
   ]
  },
  {
   "cell_type": "markdown",
   "metadata": {},
   "source": [
    "### 3.3 Import the data sets"
   ]
  },
  {
   "cell_type": "code",
   "execution_count": 2,
   "metadata": {},
   "outputs": [],
   "source": [
    "# Read the datasets\n",
    "shootings_df = pd.read_csv('resources/PoliceKillingsUS.csv',encoding=\"windows-1252\",parse_dates=[2])\n",
    "medianIncome_df = pd.read_csv('resources/MedianHouseholdIncome2015.csv',encoding=\"windows-1252\")\n",
    "povertyLevel_df = pd.read_csv('resources/PercentagePeopleBelowPovertyLevel.csv',encoding=\"windows-1252\")\n",
    "completedHighschool_df = pd.read_csv('resources/PercentOver25CompletedHighSchool.csv',encoding=\"windows-1252\")\n",
    "race_distribution_df = pd.read_csv('resources/raceByUS.csv', encoding=\"utf-8\")\n",
    "population_by_state_df = pd.read_csv('resources/state_population.csv')"
   ]
  },
  {
   "cell_type": "markdown",
   "metadata": {},
   "source": [
    "### 3.4 Basic cleaning of the data"
   ]
  },
  {
   "cell_type": "code",
   "execution_count": 3,
   "metadata": {},
   "outputs": [],
   "source": [
    "# Shootings_df\n",
    "\n",
    "# We have no use for the id and name of the person columns so we decided to remove them\n",
    "shootings_df = shootings_df.drop(['id','name'], axis=1)"
   ]
  },
  {
   "cell_type": "markdown",
   "metadata": {},
   "source": [
    "## 4. Where is the best and worst place to live according to fatal police shootings"
   ]
  },
  {
   "cell_type": "markdown",
   "metadata": {},
   "source": [
    "In this section we will take a look at the datasets we have and dive into various interesting questions where we work our way to answering the main question where to live to avoid fatal police shootings"
   ]
  },
  {
   "cell_type": "markdown",
   "metadata": {},
   "source": [
    "### 4.1 Answering the question using the shootings data"
   ]
  },
  {
   "cell_type": "markdown",
   "metadata": {},
   "source": [
    "In this section we will only be using the shootings data to answer interesting questions about fatal police shootings incidents, which as you can see in the table below has information\n",
    "about how many were killed in fatal police shootings, as well as additional information such as age, gender, \n",
    "race, the state it took place,if the suspect was armed and more. "
   ]
  },
  {
   "cell_type": "code",
   "execution_count": 4,
   "metadata": {},
   "outputs": [
    {
     "data": {
      "text/html": [
       "<div>\n",
       "<style scoped>\n",
       "    .dataframe tbody tr th:only-of-type {\n",
       "        vertical-align: middle;\n",
       "    }\n",
       "\n",
       "    .dataframe tbody tr th {\n",
       "        vertical-align: top;\n",
       "    }\n",
       "\n",
       "    .dataframe thead th {\n",
       "        text-align: right;\n",
       "    }\n",
       "</style>\n",
       "<table border=\"1\" class=\"dataframe\">\n",
       "  <thead>\n",
       "    <tr style=\"text-align: right;\">\n",
       "      <th></th>\n",
       "      <th>date</th>\n",
       "      <th>manner_of_death</th>\n",
       "      <th>armed</th>\n",
       "      <th>age</th>\n",
       "      <th>gender</th>\n",
       "      <th>race</th>\n",
       "      <th>city</th>\n",
       "      <th>state</th>\n",
       "      <th>signs_of_mental_illness</th>\n",
       "      <th>threat_level</th>\n",
       "      <th>flee</th>\n",
       "      <th>body_camera</th>\n",
       "    </tr>\n",
       "  </thead>\n",
       "  <tbody>\n",
       "    <tr>\n",
       "      <th>0</th>\n",
       "      <td>2015-02-01</td>\n",
       "      <td>shot</td>\n",
       "      <td>gun</td>\n",
       "      <td>53.0</td>\n",
       "      <td>M</td>\n",
       "      <td>A</td>\n",
       "      <td>Shelton</td>\n",
       "      <td>WA</td>\n",
       "      <td>True</td>\n",
       "      <td>attack</td>\n",
       "      <td>Not fleeing</td>\n",
       "      <td>False</td>\n",
       "    </tr>\n",
       "    <tr>\n",
       "      <th>1</th>\n",
       "      <td>2015-02-01</td>\n",
       "      <td>shot</td>\n",
       "      <td>gun</td>\n",
       "      <td>47.0</td>\n",
       "      <td>M</td>\n",
       "      <td>W</td>\n",
       "      <td>Aloha</td>\n",
       "      <td>OR</td>\n",
       "      <td>False</td>\n",
       "      <td>attack</td>\n",
       "      <td>Not fleeing</td>\n",
       "      <td>False</td>\n",
       "    </tr>\n",
       "    <tr>\n",
       "      <th>2</th>\n",
       "      <td>2015-03-01</td>\n",
       "      <td>shot and Tasered</td>\n",
       "      <td>unarmed</td>\n",
       "      <td>23.0</td>\n",
       "      <td>M</td>\n",
       "      <td>H</td>\n",
       "      <td>Wichita</td>\n",
       "      <td>KS</td>\n",
       "      <td>False</td>\n",
       "      <td>other</td>\n",
       "      <td>Not fleeing</td>\n",
       "      <td>False</td>\n",
       "    </tr>\n",
       "    <tr>\n",
       "      <th>3</th>\n",
       "      <td>2015-04-01</td>\n",
       "      <td>shot</td>\n",
       "      <td>toy weapon</td>\n",
       "      <td>32.0</td>\n",
       "      <td>M</td>\n",
       "      <td>W</td>\n",
       "      <td>San Francisco</td>\n",
       "      <td>CA</td>\n",
       "      <td>True</td>\n",
       "      <td>attack</td>\n",
       "      <td>Not fleeing</td>\n",
       "      <td>False</td>\n",
       "    </tr>\n",
       "    <tr>\n",
       "      <th>4</th>\n",
       "      <td>2015-04-01</td>\n",
       "      <td>shot</td>\n",
       "      <td>nail gun</td>\n",
       "      <td>39.0</td>\n",
       "      <td>M</td>\n",
       "      <td>H</td>\n",
       "      <td>Evans</td>\n",
       "      <td>CO</td>\n",
       "      <td>False</td>\n",
       "      <td>attack</td>\n",
       "      <td>Not fleeing</td>\n",
       "      <td>False</td>\n",
       "    </tr>\n",
       "    <tr>\n",
       "      <th>5</th>\n",
       "      <td>2015-04-01</td>\n",
       "      <td>shot</td>\n",
       "      <td>gun</td>\n",
       "      <td>18.0</td>\n",
       "      <td>M</td>\n",
       "      <td>W</td>\n",
       "      <td>Guthrie</td>\n",
       "      <td>OK</td>\n",
       "      <td>False</td>\n",
       "      <td>attack</td>\n",
       "      <td>Not fleeing</td>\n",
       "      <td>False</td>\n",
       "    </tr>\n",
       "    <tr>\n",
       "      <th>6</th>\n",
       "      <td>2015-05-01</td>\n",
       "      <td>shot</td>\n",
       "      <td>gun</td>\n",
       "      <td>22.0</td>\n",
       "      <td>M</td>\n",
       "      <td>H</td>\n",
       "      <td>Chandler</td>\n",
       "      <td>AZ</td>\n",
       "      <td>False</td>\n",
       "      <td>attack</td>\n",
       "      <td>Car</td>\n",
       "      <td>False</td>\n",
       "    </tr>\n",
       "    <tr>\n",
       "      <th>7</th>\n",
       "      <td>2015-06-01</td>\n",
       "      <td>shot</td>\n",
       "      <td>gun</td>\n",
       "      <td>35.0</td>\n",
       "      <td>M</td>\n",
       "      <td>W</td>\n",
       "      <td>Assaria</td>\n",
       "      <td>KS</td>\n",
       "      <td>False</td>\n",
       "      <td>attack</td>\n",
       "      <td>Not fleeing</td>\n",
       "      <td>False</td>\n",
       "    </tr>\n",
       "    <tr>\n",
       "      <th>8</th>\n",
       "      <td>2015-06-01</td>\n",
       "      <td>shot</td>\n",
       "      <td>unarmed</td>\n",
       "      <td>34.0</td>\n",
       "      <td>F</td>\n",
       "      <td>W</td>\n",
       "      <td>Burlington</td>\n",
       "      <td>IA</td>\n",
       "      <td>False</td>\n",
       "      <td>other</td>\n",
       "      <td>Not fleeing</td>\n",
       "      <td>True</td>\n",
       "    </tr>\n",
       "    <tr>\n",
       "      <th>9</th>\n",
       "      <td>2015-06-01</td>\n",
       "      <td>shot</td>\n",
       "      <td>toy weapon</td>\n",
       "      <td>47.0</td>\n",
       "      <td>M</td>\n",
       "      <td>B</td>\n",
       "      <td>Knoxville</td>\n",
       "      <td>PA</td>\n",
       "      <td>False</td>\n",
       "      <td>attack</td>\n",
       "      <td>Not fleeing</td>\n",
       "      <td>False</td>\n",
       "    </tr>\n",
       "  </tbody>\n",
       "</table>\n",
       "</div>"
      ],
      "text/plain": [
       "        date   manner_of_death       armed   age gender race           city  \\\n",
       "0 2015-02-01              shot         gun  53.0      M    A        Shelton   \n",
       "1 2015-02-01              shot         gun  47.0      M    W          Aloha   \n",
       "2 2015-03-01  shot and Tasered     unarmed  23.0      M    H        Wichita   \n",
       "3 2015-04-01              shot  toy weapon  32.0      M    W  San Francisco   \n",
       "4 2015-04-01              shot    nail gun  39.0      M    H          Evans   \n",
       "5 2015-04-01              shot         gun  18.0      M    W        Guthrie   \n",
       "6 2015-05-01              shot         gun  22.0      M    H       Chandler   \n",
       "7 2015-06-01              shot         gun  35.0      M    W        Assaria   \n",
       "8 2015-06-01              shot     unarmed  34.0      F    W     Burlington   \n",
       "9 2015-06-01              shot  toy weapon  47.0      M    B      Knoxville   \n",
       "\n",
       "  state  signs_of_mental_illness threat_level         flee  body_camera  \n",
       "0    WA                     True       attack  Not fleeing        False  \n",
       "1    OR                    False       attack  Not fleeing        False  \n",
       "2    KS                    False        other  Not fleeing        False  \n",
       "3    CA                     True       attack  Not fleeing        False  \n",
       "4    CO                    False       attack  Not fleeing        False  \n",
       "5    OK                    False       attack  Not fleeing        False  \n",
       "6    AZ                    False       attack          Car        False  \n",
       "7    KS                    False       attack  Not fleeing        False  \n",
       "8    IA                    False        other  Not fleeing         True  \n",
       "9    PA                    False       attack  Not fleeing        False  "
      ]
     },
     "execution_count": 4,
     "metadata": {},
     "output_type": "execute_result"
    }
   ],
   "source": [
    "shootings_df.head(10)"
   ]
  },
  {
   "cell_type": "markdown",
   "metadata": {},
   "source": [
    "### 4.2 Interesting questions using the dataframe"
   ]
  },
  {
   "cell_type": "markdown",
   "metadata": {},
   "source": [
    "Here below we will ask interesting questions and answering them in a visual way, the questions are: \n",
    "* How are the shootings divided by race?\n",
    "* Is it more likely that the victim was unarmed if the officer has a bodycamera?\n",
    "* Is it more likely to be shot if you are a man?\n",
    "* What state has the most fatal police shootings?\n"
   ]
  },
  {
   "cell_type": "markdown",
   "metadata": {},
   "source": [
    "#### 4.2.1 Divison of races"
   ]
  },
  {
   "cell_type": "markdown",
   "metadata": {},
   "source": [
    "For the last five years an international activist [black lives matter](https://en.wikipedia.org/wiki/Black_Lives_Matter) movement have gained alot of attention through social media platforms and the news. This movement campains against violence and systemic racistm towards black people.\n",
    "In this chapter we will take a closer look at the divison of races in the United States regarding fatal police shootings.\n"
   ]
  },
  {
   "cell_type": "markdown",
   "metadata": {},
   "source": [
    "To show the difference between the races that are killed in police shootings from the data set we have decided to plot a pie chart which shows the percentages of each race involved in fatal police shootings.     \n",
    "\n",
    "The race in the shootings dataset sometimes contains other as a race value, which has no meaning to us. Therefor we will remove the row that contains other as a race before we start working the dataset."
   ]
  },
  {
   "cell_type": "code",
   "execution_count": 5,
   "metadata": {},
   "outputs": [
    {
     "name": "stdout",
     "output_type": "stream",
     "text": [
      "Removed 28 rows containing other as a race\n"
     ]
    }
   ],
   "source": [
    "# Remove rows that contain Other in the race column\n",
    "shootings_race_df = shootings_df[shootings_df.race != 'O']\n",
    "# Print how many rows we had to remove\n",
    "print('Removed', shootings_df.shape[0]-shootings_race_df.shape[0],'rows containing other as a race')"
   ]
  },
  {
   "cell_type": "code",
   "execution_count": 6,
   "metadata": {},
   "outputs": [],
   "source": [
    "def raceLabelToRace(raceLabel):\n",
    "    if(raceLabel == 'W'):\n",
    "        return 'White'\n",
    "    if(raceLabel == 'B'):\n",
    "        return 'Black'\n",
    "    if(raceLabel == 'N'):\n",
    "        return 'Native American'\n",
    "    if(raceLabel == 'A'):\n",
    "        return 'Asian'\n",
    "    if(raceLabel == 'H'):\n",
    "        return 'Hispanic'"
   ]
  },
  {
   "cell_type": "code",
   "execution_count": 7,
   "metadata": {},
   "outputs": [
    {
     "data": {
      "image/png": "[encoded data removed]",
      "text/plain": [
       "<Figure size 504x504 with 1 Axes>"
      ]
     },
     "metadata": {},
     "output_type": "display_data"
    }
   ],
   "source": [
    "# Race rates  \n",
    "labels = shootings_race_df['race'].value_counts().index\n",
    "# Change the labels we have to words, for easier reading\n",
    "labels = [raceLabelToRace(x) for x in labels]\n",
    "colors = ['#47ACB1', '#F26522', '#F9AA7B', '#FFCD34','#FFE8AF']\n",
    "values = shootings_race_df['race'].value_counts().values\n",
    "\n",
    "# Plotting the pie chart\n",
    "plt.figure(figsize = (7, 7))\n",
    "plt.pie(values, labels = labels, colors = colors, autopct = '%1.1f%%')\n",
    "plt.title('Race division of people in fatal police shootings', color = 'black', size = 20)\n",
    "plt.show()"
   ]
  },
  {
   "cell_type": "markdown",
   "metadata": {},
   "source": [
    "As we can see from the pie chart above, the majority or 51,9% of races killed in police shootings are categorized as white. By looking only at this data we would assume that it is more likely for people with white skin to be involved in a fatal police shooting.  \n",
    "Despite the results we can read from the pie chart above, it is unfair to assume that it is more likely that you are to fall victim of a fatal police shooting if you are white, since the majority of people living the United states have white skin.\n",
    "According to [KFF Population Distribution by Race/Ethnicity](https://www.kff.org/other/state-indicator/distribution-by-raceethnicity/?currentTimeframe=0&sortModel=%7B%22colId%22:%22Location%22,%22sort%22:%22asc%22%7D) the race distribution in the United states can be seen in the table below.\n",
    "We will then use this to get a more fair estimate of what race is more likely to be killed in a police shooting.\n",
    "\n",
    "By looking at the average race division in the United States in the table below, \n",
    "we can see in the table below that 61% percentage of people living in the US are white\n",
    "\n"
   ]
  },
  {
   "cell_type": "markdown",
   "metadata": {},
   "source": [
    "# TODO:::: BERA SAMAN US DISTRIBUTION VS POLICLE KILLING"
   ]
  },
  {
   "cell_type": "code",
   "execution_count": 8,
   "metadata": {
    "scrolled": true
   },
   "outputs": [
    {
     "data": {
      "text/html": [
       "<div>\n",
       "<style scoped>\n",
       "    .dataframe tbody tr th:only-of-type {\n",
       "        vertical-align: middle;\n",
       "    }\n",
       "\n",
       "    .dataframe tbody tr th {\n",
       "        vertical-align: top;\n",
       "    }\n",
       "\n",
       "    .dataframe thead th {\n",
       "        text-align: right;\n",
       "    }\n",
       "</style>\n",
       "<table border=\"1\" class=\"dataframe\">\n",
       "  <thead>\n",
       "    <tr style=\"text-align: right;\">\n",
       "      <th></th>\n",
       "      <th>Location</th>\n",
       "      <th>White</th>\n",
       "      <th>Black</th>\n",
       "      <th>Hispanic</th>\n",
       "      <th>Asian</th>\n",
       "      <th>American Indian/Alaska Native</th>\n",
       "      <th>Native Hawaiian/Other Pacific Islander</th>\n",
       "    </tr>\n",
       "  </thead>\n",
       "  <tbody>\n",
       "    <tr>\n",
       "      <th>0</th>\n",
       "      <td>United States</td>\n",
       "      <td>0.61</td>\n",
       "      <td>0.12</td>\n",
       "      <td>0.18</td>\n",
       "      <td>0.06</td>\n",
       "      <td>0.01</td>\n",
       "      <td>&lt;.01</td>\n",
       "    </tr>\n",
       "  </tbody>\n",
       "</table>\n",
       "</div>"
      ],
      "text/plain": [
       "        Location  White  Black  Hispanic  Asian  \\\n",
       "0  United States   0.61   0.12      0.18   0.06   \n",
       "\n",
       "   American Indian/Alaska Native Native Hawaiian/Other Pacific Islander  \n",
       "0                           0.01                                   <.01  "
      ]
     },
     "execution_count": 8,
     "metadata": {},
     "output_type": "execute_result"
    }
   ],
   "source": [
    "race_distribution_df"
   ]
  },
  {
   "cell_type": "markdown",
   "metadata": {},
   "source": [
    "#### 4.2.2 Is it more likely that the victim was unarmed if the officer has a body camera?"
   ]
  },
  {
   "cell_type": "markdown",
   "metadata": {},
   "source": [
    "In this chapter we will take a look at if it makes a difference whether it is logged that the victim was armed or not and if the police officers has a body camera or not, We will do so by looking at the variables armed and body_camera in the shootings data."
   ]
  },
  {
   "cell_type": "code",
   "execution_count": 9,
   "metadata": {},
   "outputs": [
    {
     "data": {
      "text/plain": [
       "(2120, 12)"
      ]
     },
     "execution_count": 9,
     "metadata": {},
     "output_type": "execute_result"
    }
   ],
   "source": [
    "#shootings_df[(shootings_df['body_camera'] == False) & (shootings_df['armed'] == 'unarmed')].shape[0]\n",
    "#shootings_df[shootings_df[(shootings_df['body_camera'] == False)& (shootings_df['armed'] == 'unarmed') / (shootings_df['body_camera'] == False)].shape[0]].shape[0])\n",
    "\n",
    "#df = shootings_df.apply(lambda x : x if x['body_camera'] == True and x['armed'] == 'unarmed' else \"\", axis=1)\n",
    "shootings_df[(shootings_df['body_camera'] == False)&(shootings_df['armed'] != 'unarmed')].shape"
   ]
  },
  {
   "cell_type": "markdown",
   "metadata": {},
   "source": [
    "niðurstöður frá 4.2.2"
   ]
  },
  {
   "cell_type": "markdown",
   "metadata": {},
   "source": [
    "#### 4.2.3 Is it more likely to be in a fatal police shooting if you are a man?"
   ]
  },
  {
   "cell_type": "markdown",
   "metadata": {},
   "source": [
    "In this chapter we will take a look at if it makes a difference whether, and if you are more likely to be in a fatal police shooting if you are a man.\n",
    "We will do so by taking a look at the distribution of the genders in the dataset of police shootings in the US, and displaying the results in a bar plot."
   ]
  },
  {
   "cell_type": "code",
   "execution_count": 10,
   "metadata": {},
   "outputs": [
    {
     "data": {
      "image/png": "[encoded data removed]",
      "text/plain": [
       "<Figure size 432x288 with 1 Axes>"
      ]
     },
     "metadata": {
      "needs_background": "light"
     },
     "output_type": "display_data"
    }
   ],
   "source": [
    "# Create the labels\n",
    "Labels = ('Male','Female' )\n",
    "y_pos = np.arange(len(Labels))\n",
    "# Get the values of how many were killed of each gender\n",
    "performance = shootings_df['gender'].value_counts().tolist()\n",
    "# Create the bar plot\n",
    "plt.bar(y_pos, performance, align='center', alpha=0.5)\n",
    "plt.xticks(y_pos, labels)\n",
    "plt.ylabel('Nr. of deaths')\n",
    "plt.title('Gender division of people in fatal police shootings in the US')\n",
    " \n",
    "plt.show()"
   ]
  },
  {
   "cell_type": "markdown",
   "metadata": {},
   "source": [
    "As we can see from the bar plot above, the majority of people killed in police shootings are male, where the data shows us that there were around 2400 males and around 100 females killed.  \n",
    "This shows us that it is much less likely to be killed in police shootings if you are a female than a male.\n"
   ]
  },
  {
   "cell_type": "markdown",
   "metadata": {},
   "source": [
    "#### 4.2.4 Police shooting according to state"
   ]
  },
  {
   "cell_type": "markdown",
   "metadata": {},
   "source": [
    "In each state the amount fatal police shootings is different and maybe more frequent in some states than others, therefor it is interesting to look at the distribution of how many were killed in each state.  \n",
    "In this chapter we will take a look at police shooting rate according to each state, and visualize it using a bar plot."
   ]
  },
  {
   "cell_type": "code",
   "execution_count": 11,
   "metadata": {},
   "outputs": [
    {
     "name": "stdout",
     "output_type": "stream",
     "text": [
      "51\n"
     ]
    },
    {
     "data": {
      "image/png": "[encoded data removed]",
      "text/plain": [
       "<Figure size 1080x576 with 1 Axes>"
      ]
     },
     "metadata": {
      "needs_background": "light"
     },
     "output_type": "display_data"
    }
   ],
   "source": [
    "# Create a states dictionary to convert from abbreviations to full names of states\n",
    "states = {'AK': 'Alaska','AL': 'Alabama','AR': 'Arkansas','AS': 'American Samoa','AZ': 'Arizona','CA': 'California','CO': 'Colorado','CT': 'Connecticut','DC': 'District of Columbia','DE': 'Delaware','FL': 'Florida','GA': 'Georgia','GU': 'Guam','HI': 'Hawaii','IA': 'Iowa','ID': 'Idaho','IL': 'Illinois','IN': 'Indiana','KS': 'Kansas','KY': 'Kentucky','LA': 'Louisiana','MA': 'Massachusetts','MD': 'Maryland','ME': 'Maine','MI': 'Michigan','MN': 'Minnesota','MO': 'Missouri','MP': 'Northern Mariana Islands','MS': 'Mississippi','MT': 'Montana','NA': 'National','NC': 'North Carolina','ND': 'North Dakota','NE': 'Nebraska','NH': 'New Hampshire','NJ': 'New Jersey','NM': 'New Mexico','NV': 'Nevada','NY': 'New York','OH': 'Ohio','OK': 'Oklahoma','OR': 'Oregon','PA': 'Pennsylvania','PR': 'Puerto Rico','RI': 'Rhode Island','SC': 'South Carolina','SD': 'South Dakota','TN': 'Tennessee','TX': 'Texas','UT': 'Utah','VA': 'Virginia','VI': 'Virgin Islands','VT': 'Vermont','WA': 'Washington','WI': 'Wisconsin','WV': 'West Virginia','WY': 'Wyoming'}\n",
    "# Change abbreviations of states to state names\n",
    "states_shootings_df = shootings_df.state.apply(lambda x : states[x])\n",
    "print(len(states_shootings_df.value_counts()))\n",
    "# Create the labels\n",
    "Labels = states_shootings_df.value_counts().index.tolist()\n",
    "y_pos = np.arange(len(Labels))\n",
    "# Get the values of how many were killed of each gender\n",
    "performance = states_shootings_df.value_counts().tolist()\n",
    "# Create the bar plot\n",
    "plt.figure(figsize = (15, 8))\n",
    "plt.bar(y_pos, performance, align='center', alpha=0.5, color='gray')\n",
    "plt.xticks(y_pos, Labels, rotation=90)\n",
    "plt.ylabel('Nr. of deaths')\n",
    "plt.title('State division of people in fatal police shootings in the US')\n",
    " \n",
    "plt.show()"
   ]
  },
  {
   "cell_type": "markdown",
   "metadata": {},
   "source": [
    "As we can see in the bar plot above there is a huge difference in the amounts of deaths in police shootings depending on the state.\n",
    "We can see that the state with the largest number of deaths by police shootings is with out a doubt the state of California, followed by Texas and the lowest number of deaths is in the  state of Rhode Island."
   ]
  },
  {
   "cell_type": "markdown",
   "metadata": {},
   "source": [
    "#### 4.2.5 Diving deeper into state divison of fatal police shootings"
   ]
  },
  {
   "cell_type": "markdown",
   "metadata": {},
   "source": [
    "To make a fair estimate of what state has the most fatal police shootings according to population, we must take into account how many people live in each state, we can do so by looking up for each state how many live in that state. From there we can divide the number of fatal police shootings by population of each state to get the probability of being in a fatal accident with the police in each state."
   ]
  },
  {
   "cell_type": "code",
   "execution_count": 12,
   "metadata": {},
   "outputs": [],
   "source": [
    "# Create new df and change the state to real name of state\n",
    "us_shootings_df = shootings_df\n",
    "us_shootings_df['state'] = shootings_df.state.apply(lambda x : states[x])\n",
    "# Create dictionary out of how many occurences we have in each state\n",
    "StateOccurranceDict = dict(us_shootings_df['state'].value_counts())"
   ]
  },
  {
   "cell_type": "code",
   "execution_count": 13,
   "metadata": {},
   "outputs": [],
   "source": [
    "# Remove the ',' in each population_estimate so we can calculate it\n",
    "population_by_state_df['population_estimate'] = population_by_state_df['population_estimate'].str.replace(',', '')\n",
    "\n",
    "# Create array to keep track of probability of being killed in police shooting for each state\n",
    "prob_of_death_per_state = []\n",
    "\n",
    "# Calculate the probability of being killed in each state\n",
    "for index, row in population_by_state_df.iterrows():\n",
    "    # if state is in dictionary calculate probability\n",
    "    if(StateOccurranceDict[row['state']]):\n",
    "        prob_of_death_per_state.append((row['state'],(float(StateOccurranceDict[row['state']])/float(row['population_estimate']))))\n",
    "            "
   ]
  },
  {
   "cell_type": "code",
   "execution_count": 14,
   "metadata": {},
   "outputs": [],
   "source": [
    "#Create dataframe from percentage calculations\n",
    "states_prob_df = pd.DataFrame(prob_of_death_per_state, columns=['state', 'probability_of_fatal_shooting (%)'])  \n",
    "# Format the probability column so it displays the result in human readable form\n",
    "states_prob_df['probability_of_fatal_shooting (%)'] = states_prob_df['probability_of_fatal_shooting (%)'].apply(lambda x : \"{:.5%}\".format(x))\n",
    "states_prob_df['probability_of_fatal_shooting (%)'] = states_prob_df['probability_of_fatal_shooting (%)'].apply(lambda x : x.replace('%',''))"
   ]
  },
  {
   "cell_type": "code",
   "execution_count": 28,
   "metadata": {},
   "outputs": [
    {
     "data": {
      "text/html": [
       "<div>\n",
       "<style scoped>\n",
       "    .dataframe tbody tr th:only-of-type {\n",
       "        vertical-align: middle;\n",
       "    }\n",
       "\n",
       "    .dataframe tbody tr th {\n",
       "        vertical-align: top;\n",
       "    }\n",
       "\n",
       "    .dataframe thead th {\n",
       "        text-align: right;\n",
       "    }\n",
       "</style>\n",
       "<table border=\"1\" class=\"dataframe\">\n",
       "  <thead>\n",
       "    <tr style=\"text-align: right;\">\n",
       "      <th></th>\n",
       "      <th>state</th>\n",
       "      <th>probability_of_fatal_shooting (%)</th>\n",
       "    </tr>\n",
       "  </thead>\n",
       "  <tbody>\n",
       "    <tr>\n",
       "      <th>39</th>\n",
       "      <td>Rhode Island</td>\n",
       "      <td>0.00019</td>\n",
       "    </tr>\n",
       "    <tr>\n",
       "      <th>34</th>\n",
       "      <td>New York</td>\n",
       "      <td>0.00023</td>\n",
       "    </tr>\n",
       "    <tr>\n",
       "      <th>6</th>\n",
       "      <td>Connecticut</td>\n",
       "      <td>0.00025</td>\n",
       "    </tr>\n",
       "    <tr>\n",
       "      <th>19</th>\n",
       "      <td>Massachusetts</td>\n",
       "      <td>0.00032</td>\n",
       "    </tr>\n",
       "    <tr>\n",
       "      <th>22</th>\n",
       "      <td>Michigan</td>\n",
       "      <td>0.00037</td>\n",
       "    </tr>\n",
       "    <tr>\n",
       "      <th>12</th>\n",
       "      <td>Iowa</td>\n",
       "      <td>0.00038</td>\n",
       "    </tr>\n",
       "    <tr>\n",
       "      <th>31</th>\n",
       "      <td>New Jersey</td>\n",
       "      <td>0.00039</td>\n",
       "    </tr>\n",
       "    <tr>\n",
       "      <th>38</th>\n",
       "      <td>Pennsylvania</td>\n",
       "      <td>0.00040</td>\n",
       "    </tr>\n",
       "    <tr>\n",
       "      <th>46</th>\n",
       "      <td>Vermont</td>\n",
       "      <td>0.00048</td>\n",
       "    </tr>\n",
       "    <tr>\n",
       "      <th>14</th>\n",
       "      <td>Illinois</td>\n",
       "      <td>0.00049</td>\n",
       "    </tr>\n",
       "  </tbody>\n",
       "</table>\n",
       "</div>"
      ],
      "text/plain": [
       "            state probability_of_fatal_shooting (%)\n",
       "39   Rhode Island                           0.00019\n",
       "34       New York                           0.00023\n",
       "6     Connecticut                           0.00025\n",
       "19  Massachusetts                           0.00032\n",
       "22       Michigan                           0.00037\n",
       "12           Iowa                           0.00038\n",
       "31     New Jersey                           0.00039\n",
       "38   Pennsylvania                           0.00040\n",
       "46        Vermont                           0.00048\n",
       "14       Illinois                           0.00049"
      ]
     },
     "execution_count": 28,
     "metadata": {},
     "output_type": "execute_result"
    }
   ],
   "source": [
    "result = states_prob_df.sort_values(by=['probability_of_fatal_shooting (%)'], ascending=True)\n",
    "result.head(10)"
   ]
  },
  {
   "cell_type": "code",
   "execution_count": 34,
   "metadata": {},
   "outputs": [
    {
     "data": {
      "image/png": "[encoded data removed]",
      "text/plain": [
       "<Figure size 1080x576 with 1 Axes>"
      ]
     },
     "metadata": {
      "needs_background": "light"
     },
     "output_type": "display_data"
    }
   ],
   "source": [
    "# Create the labels\n",
    "Labels = result['state'].tolist()\n",
    "y_pos = np.arange(len(Labels))\n",
    "# Get the values of how many were killed of each gender\n",
    "performance = result['probability_of_fatal_shooting (%)'].tolist()\n",
    "# Create the bar plot\n",
    "plt.figure(figsize = (15, 8))\n",
    "plt.bar(y_pos, performance, align='center', alpha=0.5, color='grey')\n",
    "plt.xticks(y_pos, Labels, rotation=90)\n",
    "plt.ylabel('Probability of being in a fatal police shooting')\n",
    "plt.title('Probability of being in a fatal police shooting accident')\n",
    " \n",
    "plt.show()\n"
   ]
  },
  {
   "cell_type": "markdown",
   "metadata": {},
   "source": [
    "As we can see in the bar plot above after calculating the probability of being in a fatal police shooting accident by each state, the state with the highest probability of people killed is Texas with 0.00259% probabilities. The state with the lowest probability is Rhode Island with 0.00019% probabilities.\n",
    "By comparing the two bar plots we can see there are alot of changes for some states, for example California in the previous bar plot had the highest number of people killed in police shootings, while it is now in 13'th place in the new bar plot which takes into account how many people live in the state.\n",
    "Which shows us that the population matters alot when comparing which state has the lowest and highest fatal police shootings."
   ]
  },
  {
   "cell_type": "markdown",
   "metadata": {},
   "source": [
    "With the data we have now gone over we can see that the best place to live in to avoid police shooting is Rhode Island."
   ]
  },
  {
   "cell_type": "markdown",
   "metadata": {},
   "source": [
    "## 4.3 Answering the question using the median income data"
   ]
  },
  {
   "cell_type": "markdown",
   "metadata": {},
   "source": [
    "Does it make a difference if the median income in a city is higher regarding fatal police shootings?  \n",
    "We will answer this question by taking a look at the median income of cities in the United States and comparing \n",
    "the city income to how many fatal police shootings were."
   ]
  },
  {
   "cell_type": "code",
   "execution_count": 40,
   "metadata": {},
   "outputs": [
    {
     "data": {
      "text/html": [
       "<div>\n",
       "<style scoped>\n",
       "    .dataframe tbody tr th:only-of-type {\n",
       "        vertical-align: middle;\n",
       "    }\n",
       "\n",
       "    .dataframe tbody tr th {\n",
       "        vertical-align: top;\n",
       "    }\n",
       "\n",
       "    .dataframe thead th {\n",
       "        text-align: right;\n",
       "    }\n",
       "</style>\n",
       "<table border=\"1\" class=\"dataframe\">\n",
       "  <thead>\n",
       "    <tr style=\"text-align: right;\">\n",
       "      <th></th>\n",
       "      <th>Geographic Area</th>\n",
       "      <th>City</th>\n",
       "      <th>Median Income</th>\n",
       "    </tr>\n",
       "  </thead>\n",
       "  <tbody>\n",
       "    <tr>\n",
       "      <th>0</th>\n",
       "      <td>AL</td>\n",
       "      <td>Abanda CDP</td>\n",
       "      <td>11207</td>\n",
       "    </tr>\n",
       "    <tr>\n",
       "      <th>1</th>\n",
       "      <td>AL</td>\n",
       "      <td>Abbeville city</td>\n",
       "      <td>25615</td>\n",
       "    </tr>\n",
       "    <tr>\n",
       "      <th>2</th>\n",
       "      <td>AL</td>\n",
       "      <td>Adamsville city</td>\n",
       "      <td>42575</td>\n",
       "    </tr>\n",
       "    <tr>\n",
       "      <th>3</th>\n",
       "      <td>AL</td>\n",
       "      <td>Addison town</td>\n",
       "      <td>37083</td>\n",
       "    </tr>\n",
       "    <tr>\n",
       "      <th>4</th>\n",
       "      <td>AL</td>\n",
       "      <td>Akron town</td>\n",
       "      <td>21667</td>\n",
       "    </tr>\n",
       "    <tr>\n",
       "      <th>5</th>\n",
       "      <td>AL</td>\n",
       "      <td>Alabaster city</td>\n",
       "      <td>71816</td>\n",
       "    </tr>\n",
       "    <tr>\n",
       "      <th>6</th>\n",
       "      <td>AL</td>\n",
       "      <td>Albertville city</td>\n",
       "      <td>32911</td>\n",
       "    </tr>\n",
       "    <tr>\n",
       "      <th>7</th>\n",
       "      <td>AL</td>\n",
       "      <td>Alexander City city</td>\n",
       "      <td>29874</td>\n",
       "    </tr>\n",
       "    <tr>\n",
       "      <th>8</th>\n",
       "      <td>AL</td>\n",
       "      <td>Alexandria CDP</td>\n",
       "      <td>56058</td>\n",
       "    </tr>\n",
       "    <tr>\n",
       "      <th>9</th>\n",
       "      <td>AL</td>\n",
       "      <td>Aliceville city</td>\n",
       "      <td>21131</td>\n",
       "    </tr>\n",
       "  </tbody>\n",
       "</table>\n",
       "</div>"
      ],
      "text/plain": [
       "  Geographic Area                 City Median Income\n",
       "0              AL           Abanda CDP         11207\n",
       "1              AL       Abbeville city         25615\n",
       "2              AL      Adamsville city         42575\n",
       "3              AL         Addison town         37083\n",
       "4              AL           Akron town         21667\n",
       "5              AL       Alabaster city         71816\n",
       "6              AL     Albertville city         32911\n",
       "7              AL  Alexander City city         29874\n",
       "8              AL       Alexandria CDP         56058\n",
       "9              AL      Aliceville city         21131"
      ]
     },
     "execution_count": 40,
     "metadata": {},
     "output_type": "execute_result"
    }
   ],
   "source": [
    "medianIncome_df.head(10)"
   ]
  },
  {
   "cell_type": "markdown",
   "metadata": {},
   "source": [
    "In the table above we can see how a subset of our median income dataset looks like, we have information about the\n",
    "states, what cities and what the median income is."
   ]
  },
  {
   "cell_type": "markdown",
   "metadata": {},
   "source": [
    "#### 4.3.1 Where is the highest median income"
   ]
  },
  {
   "cell_type": "markdown",
   "metadata": {},
   "source": [
    "In each city the median income is different and it might make a difference wether it's more likely , in this chapter we will look at the cities with the  highest\n",
    "and lowest median incomes."
   ]
  },
  {
   "cell_type": "code",
   "execution_count": null,
   "metadata": {},
   "outputs": [],
   "source": []
  },
  {
   "cell_type": "code",
   "execution_count": null,
   "metadata": {},
   "outputs": [],
   "source": []
  },
  {
   "cell_type": "code",
   "execution_count": null,
   "metadata": {},
   "outputs": [],
   "source": []
  },
  {
   "cell_type": "code",
   "execution_count": null,
   "metadata": {},
   "outputs": [],
   "source": []
  },
  {
   "cell_type": "code",
   "execution_count": null,
   "metadata": {},
   "outputs": [],
   "source": []
  },
  {
   "cell_type": "code",
   "execution_count": null,
   "metadata": {},
   "outputs": [],
   "source": []
  },
  {
   "cell_type": "markdown",
   "metadata": {},
   "source": [
    "### 4.1 Visulation of police shootings sorted by races "
   ]
  },
  {
   "cell_type": "markdown",
   "metadata": {},
   "source": [
    "To show the difference between the races that are killed in police shootings from the data set we have desided to plot a pie chart which shows the percentages of each race involved in fatal police shootings."
   ]
  },
  {
   "cell_type": "code",
   "execution_count": null,
   "metadata": {},
   "outputs": [],
   "source": [
    "# show the first 10 rows in the data frame\n",
    "shootings_df['race'].value_counts()"
   ]
  },
  {
   "cell_type": "code",
   "execution_count": null,
   "metadata": {},
   "outputs": [],
   "source": []
  },
  {
   "cell_type": "code",
   "execution_count": null,
   "metadata": {},
   "outputs": [],
   "source": []
  },
  {
   "cell_type": "code",
   "execution_count": null,
   "metadata": {},
   "outputs": [],
   "source": []
  },
  {
   "cell_type": "code",
   "execution_count": null,
   "metadata": {},
   "outputs": [],
   "source": []
  },
  {
   "cell_type": "code",
   "execution_count": null,
   "metadata": {},
   "outputs": [],
   "source": []
  },
  {
   "cell_type": "code",
   "execution_count": null,
   "metadata": {},
   "outputs": [],
   "source": []
  },
  {
   "cell_type": "code",
   "execution_count": null,
   "metadata": {},
   "outputs": [],
   "source": []
  },
  {
   "cell_type": "code",
   "execution_count": null,
   "metadata": {},
   "outputs": [],
   "source": []
  },
  {
   "cell_type": "code",
   "execution_count": null,
   "metadata": {},
   "outputs": [],
   "source": []
  },
  {
   "cell_type": "code",
   "execution_count": null,
   "metadata": {},
   "outputs": [],
   "source": []
  },
  {
   "cell_type": "code",
   "execution_count": null,
   "metadata": {},
   "outputs": [],
   "source": []
  },
  {
   "cell_type": "code",
   "execution_count": null,
   "metadata": {},
   "outputs": [],
   "source": []
  },
  {
   "cell_type": "code",
   "execution_count": null,
   "metadata": {},
   "outputs": [],
   "source": []
  },
  {
   "cell_type": "code",
   "execution_count": null,
   "metadata": {},
   "outputs": [],
   "source": []
  },
  {
   "cell_type": "code",
   "execution_count": null,
   "metadata": {},
   "outputs": [],
   "source": []
  },
  {
   "cell_type": "code",
   "execution_count": null,
   "metadata": {},
   "outputs": [],
   "source": []
  },
  {
   "cell_type": "code",
   "execution_count": null,
   "metadata": {},
   "outputs": [],
   "source": []
  },
  {
   "cell_type": "code",
   "execution_count": null,
   "metadata": {},
   "outputs": [],
   "source": []
  },
  {
   "cell_type": "code",
   "execution_count": null,
   "metadata": {},
   "outputs": [],
   "source": []
  },
  {
   "cell_type": "code",
   "execution_count": null,
   "metadata": {},
   "outputs": [],
   "source": []
  },
  {
   "cell_type": "code",
   "execution_count": null,
   "metadata": {},
   "outputs": [],
   "source": []
  },
  {
   "cell_type": "code",
   "execution_count": null,
   "metadata": {},
   "outputs": [],
   "source": []
  },
  {
   "cell_type": "code",
   "execution_count": null,
   "metadata": {},
   "outputs": [],
   "source": []
  },
  {
   "cell_type": "code",
   "execution_count": null,
   "metadata": {},
   "outputs": [],
   "source": []
  },
  {
   "cell_type": "code",
   "execution_count": null,
   "metadata": {},
   "outputs": [],
   "source": []
  },
  {
   "cell_type": "code",
   "execution_count": null,
   "metadata": {},
   "outputs": [],
   "source": []
  },
  {
   "cell_type": "code",
   "execution_count": null,
   "metadata": {},
   "outputs": [],
   "source": []
  },
  {
   "cell_type": "code",
   "execution_count": null,
   "metadata": {},
   "outputs": [],
   "source": []
  },
  {
   "cell_type": "markdown",
   "metadata": {},
   "source": [
    "#### 4.1.1 Diving deeper into the race distribution"
   ]
  },
  {
   "cell_type": "markdown",
   "metadata": {},
   "source": [
    "As you can see from the pie chart above, the largest percentages of races involved in police shootings had white skin. The results may be surprising, but it makes sense because 61% of people living in the United States in the year 2017 have white skin according to [KFF Population Distribution by Race/Ethnicity](https://www.kff.org/other/state-indicator/distribution-by-raceethnicity/?currentTimeframe=0&sortModel=%7B%22colId%22:%22Location%22,%22sort%22:%22asc%22%7D)"
   ]
  },
  {
   "cell_type": "markdown",
   "metadata": {},
   "source": [
    "## Reikna út eithvað fjör svipað og hér  ..... [héééééééér...](https://www.vox.com/identities/2016/8/13/17938186/police-shootings-killings-racism-racial-disparities)"
   ]
  },
  {
   "cell_type": "markdown",
   "metadata": {},
   "source": [
    "## 4.2 Visulation of police shootings, weapons"
   ]
  },
  {
   "cell_type": "markdown",
   "metadata": {},
   "source": [
    "#### 4.2.1 All Weapons"
   ]
  },
  {
   "cell_type": "code",
   "execution_count": null,
   "metadata": {},
   "outputs": [],
   "source": [
    "values = shootings_df['armed'].value_counts().values[:10]\n",
    "labels = shootings_df['armed'].value_counts().index.tolist()[:10]\n",
    "\n",
    "mpl_fig = plt.figure(figsize = (15, 7))\n",
    "ax = mpl_fig.add_subplot(111)\n",
    "\n",
    "ax.set_ylabel(\"Number of incidents\", fontsize=16)\n",
    "ax.set_xlabel(\"Weapon type\", fontsize=16)\n",
    "\n",
    "plt.bar(labels, values)"
   ]
  },
  {
   "cell_type": "markdown",
   "metadata": {},
   "source": [
    "#### Weapons sorted by age gap"
   ]
  },
  {
   "cell_type": "code",
   "execution_count": null,
   "metadata": {},
   "outputs": [],
   "source": [
    "ranges = [i for i in range(0,100,18)]\n",
    "#rangesLabels = [str(i) + '-' + str(i+10) for i in range(-25,35,10)]\n",
    "r=range(1,19)\n",
    "binCounter = pd.cut(shootings_df['age'],ranges).value_counts()\n",
    "print(binCounter)\n",
    "\n",
    "#values = shootings_df[shootings_df['age'] ==].value_counts().values[:10]\n",
    "labels = shootings_df['armed'].value_counts().index.tolist()[:10]\n",
    "print(shootings_df.shape)\n",
    "\n",
    "\n",
    "binCounter.plot.pie(figsize=(8, 8))"
   ]
  },
  {
   "cell_type": "code",
   "execution_count": null,
   "metadata": {},
   "outputs": [],
   "source": [
    "shootings_df.head(10)"
   ]
  },
  {
   "cell_type": "markdown",
   "metadata": {},
   "source": [
    "## 4.3 Visulation of police shootings sorted by age"
   ]
  },
  {
   "cell_type": "markdown",
   "metadata": {},
   "source": [
    "Lets take a better look at the age distribution"
   ]
  },
  {
   "cell_type": "code",
   "execution_count": null,
   "metadata": {},
   "outputs": [],
   "source": [
    "#### TODO ####\n",
    "\n",
    "\n",
    "# Age rates\n",
    "values = shootings_df['age'].value_counts()\n",
    "\n",
    "# Get the 10 most\n",
    "b = pd.DataFrame(values.head(10))\n",
    "b.apply(pd.value_counts).plot.pie(subplots=True)\n",
    "print(b)"
   ]
  },
  {
   "cell_type": "markdown",
   "metadata": {},
   "source": [
    "4.3 Visulation of police shootings poverty level for each state"
   ]
  },
  {
   "cell_type": "code",
   "execution_count": null,
   "metadata": {},
   "outputs": [],
   "source": [
    "import seaborn as sns\n",
    "\n",
    "#in order to change '-' to '0'\n",
    "povertyLevel_df.poverty_rate.replace(['-'],0.0,inplace = True)\n",
    "#Change the data to float\n",
    "povertyLevel_df.poverty_rate = povertyLevel_df.poverty_rate.astype(float)\n",
    "#list of geographic area\n",
    "area_list = list(povertyLevel_df['Geographic Area'].unique())\n",
    "area_poverty_ratio = []\n",
    "\n",
    "for i in area_list:\n",
    "    #a : geographical area in the i index of the data frame\n",
    "    a = povertyLevel_df[povertyLevel_df['Geographic Area']==i] \n",
    "    area_poverty_rate = a.poverty_rate.mean()\n",
    "    area_poverty_ratio.append(area_poverty_rate)\n",
    "\n",
    "data = pd.DataFrame({'area_list' : area_list,'area_poverty_ratio' : area_poverty_ratio})\n",
    "new_index = (data['area_poverty_ratio'].sort_values(ascending = False)).index.values\n",
    "sorted_data = data.reindex(new_index)\n",
    "\n",
    "#visualization\n",
    "plt.figure(figsize = (20,10))\n",
    "sns.barplot(x=sorted_data['area_list'],y=sorted_data['area_poverty_ratio'])\n",
    "plt.xlabel = ('States')\n",
    "plt.ylabel = ('Poverty Rate')\n",
    "plt.title('Poverty Rate Given States')\n",
    "plt.show()\n"
   ]
  },
  {
   "cell_type": "code",
   "execution_count": null,
   "metadata": {},
   "outputs": [],
   "source": []
  },
  {
   "cell_type": "code",
   "execution_count": null,
   "metadata": {},
   "outputs": [],
   "source": []
  },
  {
   "cell_type": "code",
   "execution_count": null,
   "metadata": {},
   "outputs": [],
   "source": []
  },
  {
   "cell_type": "code",
   "execution_count": null,
   "metadata": {},
   "outputs": [],
   "source": []
  },
  {
   "cell_type": "code",
   "execution_count": null,
   "metadata": {},
   "outputs": [],
   "source": []
  },
  {
   "cell_type": "markdown",
   "metadata": {},
   "source": [
    "## 4. Data cleaning"
   ]
  },
  {
   "cell_type": "markdown",
   "metadata": {},
   "source": [
    "in the police-shootings file, we have attributes that are not relevant to us, when visualating the data:\n",
    "* we have the name of the person killed,\n",
    "* we also have some id\n",
    "\n",
    "so we will start by removing those columns"
   ]
  },
  {
   "cell_type": "code",
   "execution_count": null,
   "metadata": {},
   "outputs": [],
   "source": [
    "weapon = shootings_df['armed'].value_counts()\n",
    "print(weapon)"
   ]
  },
  {
   "cell_type": "markdown",
   "metadata": {},
   "source": [
    "* Mental_ilness vs threat_level vs armed"
   ]
  },
  {
   "cell_type": "code",
   "execution_count": null,
   "metadata": {},
   "outputs": [],
   "source": []
  }
 ],
 "metadata": {
  "kernelspec": {
   "display_name": "Python 3",
   "language": "python",
   "name": "python3"
  },
  "language_info": {
   "codemirror_mode": {
    "name": "ipython",
    "version": 3
   },
   "file_extension": ".py",
   "mimetype": "text/x-python",
   "name": "python",
   "nbconvert_exporter": "python",
   "pygments_lexer": "ipython3",
   "version": "3.7.1"
  }
 },
 "nbformat": 4,
 "nbformat_minor": 2
}
