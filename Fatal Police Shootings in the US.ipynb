{
 "cells": [
  {
   "cell_type": "markdown",
   "metadata": {},
   "source": [
    "# Fatal Police Shootings in the US #"
   ]
  },
  {
   "cell_type": "markdown",
   "metadata": {},
   "source": [
    "## 1. Introduction"
   ]
  },
  {
   "cell_type": "markdown",
   "metadata": {},
   "source": [
    "In the years 2015, 2016, and 2017 there were 2945 people involved in a fatal police shooting in the United states according to [The Washington Post](https://www.washingtonpost.com/graphics/national/police-shootings/).  \n",
    "Where we have 995 people killed in 2015, 963 people killed in 2016, and 987 people killed in 2017. As we can see from those numbers there is little change from years in police fatal shootings.  \n",
    "In this report we will dive deeper into this, and try to answer the question in which state it is best to live in to avoid fatal police shootings."
   ]
  },
  {
   "cell_type": "markdown",
   "metadata": {},
   "source": [
    "## 2. About"
   ]
  },
  {
   "cell_type": "markdown",
   "metadata": {},
   "source": [
    "### 2.1 Data\n",
    "The data used for measurement is recieved from kaggle [fatal police shootings in the us](https://www.kaggle.com/kwullum/fatal-police-shootings-in-the-us/version/1)  \n",
    "This source includes data about police shootings in the United States but also has an additional information regarding various information about the incident. The dataset also contains information about the city the incident occurred in, such as median income, percentages of how many completed high school and race division  of the cities."
   ]
  },
  {
   "cell_type": "markdown",
   "metadata": {},
   "source": [
    "## 3. Preparing the data"
   ]
  },
  {
   "cell_type": "markdown",
   "metadata": {},
   "source": [
    "### 3.2 Import the necessary libraries"
   ]
  },
  {
   "cell_type": "code",
   "execution_count": 1,
   "metadata": {},
   "outputs": [],
   "source": [
    "# Necessary imports\n",
    "import pandas as pd\n",
    "import numpy as np\n",
    "import seaborn as sns \n",
    "from matplotlib import pyplot as plt"
   ]
  },
  {
   "cell_type": "markdown",
   "metadata": {},
   "source": [
    "### 3.3 Import the data sets"
   ]
  },
  {
   "cell_type": "code",
   "execution_count": 2,
   "metadata": {},
   "outputs": [],
   "source": [
    "# Read the datasets\n",
    "shootings_df = pd.read_csv('resources/PoliceKillingsUS.csv',encoding=\"windows-1252\",parse_dates=[2])\n",
    "medianIncome_df = pd.read_csv('resources/MedianHouseholdIncome2015.csv',encoding=\"windows-1252\")\n",
    "povertyLevel_df = pd.read_csv('resources/PercentagePeopleBelowPovertyLevel.csv',encoding=\"windows-1252\")\n",
    "completedHighschool_df = pd.read_csv('resources/PercentOver25CompletedHighSchool.csv',encoding=\"windows-1252\")\n",
    "race_distribution_df = pd.read_csv('resources/raceByUS.csv', encoding=\"utf-8\")\n",
    "population_by_state_df = pd.read_csv('resources/state_population.csv')\n",
    "USPopulation2017_df = pd.read_csv('resources/USPopulation2017.csv', thousands=\",\")"
   ]
  },
  {
   "cell_type": "markdown",
   "metadata": {},
   "source": [
    "### 3.4 Basic cleaning of the data"
   ]
  },
  {
   "cell_type": "code",
   "execution_count": 3,
   "metadata": {},
   "outputs": [],
   "source": [
    "# Shootings_df\n",
    "\n",
    "# We have no use for the id and name of the person columns so we decided to remove them\n",
    "shootings_df = shootings_df.drop(['id','name'], axis=1)\n",
    "\n",
    "# MedianIncome_df\n",
    "# There are some values with '-' or '(x)' in them, so we remove them\n",
    "medianIncome_df['Median Income'] = medianIncome_df['Median Income'].apply(lambda x : x if str(x).isdigit() else None)\n",
    "medianIncome_df.dropna(inplace=True)\n",
    "\n",
    "# povertyLevel_df\n",
    "# There are some values with '-' in them, so we remove them\n",
    "povertyLevel_df['poverty_rate'] = povertyLevel_df['poverty_rate'].apply(lambda x : x if '-' not in x else None)\n",
    "povertyLevel_df.dropna(inplace=True)"
   ]
  },
  {
   "cell_type": "markdown",
   "metadata": {},
   "source": [
    "## 4. Where is the best and worst place to live according to fatal police shootings"
   ]
  },
  {
   "cell_type": "markdown",
   "metadata": {},
   "source": [
    "In this section we will take a look at the datasets we have and dive into various interesting questions where we work our way to answering the main question where to live to avoid fatal police shootings"
   ]
  },
  {
   "cell_type": "markdown",
   "metadata": {},
   "source": [
    "### 4.1 Answering the question using the shootings data"
   ]
  },
  {
   "cell_type": "markdown",
   "metadata": {},
   "source": [
    "In this section we will only be using the shootings data to answer interesting questions about fatal police shootings incidents, which as you can see in the table below has information\n",
    "about how many were killed in fatal police shootings, as well as additional information such as age, gender, \n",
    "race, the state it took place,if the suspect was armed and more. "
   ]
  },
  {
   "cell_type": "code",
   "execution_count": 4,
   "metadata": {},
   "outputs": [
    {
     "data": {
      "text/html": [
       "<div>\n",
       "<style scoped>\n",
       "    .dataframe tbody tr th:only-of-type {\n",
       "        vertical-align: middle;\n",
       "    }\n",
       "\n",
       "    .dataframe tbody tr th {\n",
       "        vertical-align: top;\n",
       "    }\n",
       "\n",
       "    .dataframe thead th {\n",
       "        text-align: right;\n",
       "    }\n",
       "</style>\n",
       "<table border=\"1\" class=\"dataframe\">\n",
       "  <thead>\n",
       "    <tr style=\"text-align: right;\">\n",
       "      <th></th>\n",
       "      <th>date</th>\n",
       "      <th>manner_of_death</th>\n",
       "      <th>armed</th>\n",
       "      <th>age</th>\n",
       "      <th>gender</th>\n",
       "      <th>race</th>\n",
       "      <th>city</th>\n",
       "      <th>state</th>\n",
       "      <th>signs_of_mental_illness</th>\n",
       "      <th>threat_level</th>\n",
       "      <th>flee</th>\n",
       "      <th>body_camera</th>\n",
       "    </tr>\n",
       "  </thead>\n",
       "  <tbody>\n",
       "    <tr>\n",
       "      <th>0</th>\n",
       "      <td>2015-02-01</td>\n",
       "      <td>shot</td>\n",
       "      <td>gun</td>\n",
       "      <td>53.0</td>\n",
       "      <td>M</td>\n",
       "      <td>A</td>\n",
       "      <td>Shelton</td>\n",
       "      <td>WA</td>\n",
       "      <td>True</td>\n",
       "      <td>attack</td>\n",
       "      <td>Not fleeing</td>\n",
       "      <td>False</td>\n",
       "    </tr>\n",
       "    <tr>\n",
       "      <th>1</th>\n",
       "      <td>2015-02-01</td>\n",
       "      <td>shot</td>\n",
       "      <td>gun</td>\n",
       "      <td>47.0</td>\n",
       "      <td>M</td>\n",
       "      <td>W</td>\n",
       "      <td>Aloha</td>\n",
       "      <td>OR</td>\n",
       "      <td>False</td>\n",
       "      <td>attack</td>\n",
       "      <td>Not fleeing</td>\n",
       "      <td>False</td>\n",
       "    </tr>\n",
       "    <tr>\n",
       "      <th>2</th>\n",
       "      <td>2015-03-01</td>\n",
       "      <td>shot and Tasered</td>\n",
       "      <td>unarmed</td>\n",
       "      <td>23.0</td>\n",
       "      <td>M</td>\n",
       "      <td>H</td>\n",
       "      <td>Wichita</td>\n",
       "      <td>KS</td>\n",
       "      <td>False</td>\n",
       "      <td>other</td>\n",
       "      <td>Not fleeing</td>\n",
       "      <td>False</td>\n",
       "    </tr>\n",
       "    <tr>\n",
       "      <th>3</th>\n",
       "      <td>2015-04-01</td>\n",
       "      <td>shot</td>\n",
       "      <td>toy weapon</td>\n",
       "      <td>32.0</td>\n",
       "      <td>M</td>\n",
       "      <td>W</td>\n",
       "      <td>San Francisco</td>\n",
       "      <td>CA</td>\n",
       "      <td>True</td>\n",
       "      <td>attack</td>\n",
       "      <td>Not fleeing</td>\n",
       "      <td>False</td>\n",
       "    </tr>\n",
       "    <tr>\n",
       "      <th>4</th>\n",
       "      <td>2015-04-01</td>\n",
       "      <td>shot</td>\n",
       "      <td>nail gun</td>\n",
       "      <td>39.0</td>\n",
       "      <td>M</td>\n",
       "      <td>H</td>\n",
       "      <td>Evans</td>\n",
       "      <td>CO</td>\n",
       "      <td>False</td>\n",
       "      <td>attack</td>\n",
       "      <td>Not fleeing</td>\n",
       "      <td>False</td>\n",
       "    </tr>\n",
       "    <tr>\n",
       "      <th>5</th>\n",
       "      <td>2015-04-01</td>\n",
       "      <td>shot</td>\n",
       "      <td>gun</td>\n",
       "      <td>18.0</td>\n",
       "      <td>M</td>\n",
       "      <td>W</td>\n",
       "      <td>Guthrie</td>\n",
       "      <td>OK</td>\n",
       "      <td>False</td>\n",
       "      <td>attack</td>\n",
       "      <td>Not fleeing</td>\n",
       "      <td>False</td>\n",
       "    </tr>\n",
       "    <tr>\n",
       "      <th>6</th>\n",
       "      <td>2015-05-01</td>\n",
       "      <td>shot</td>\n",
       "      <td>gun</td>\n",
       "      <td>22.0</td>\n",
       "      <td>M</td>\n",
       "      <td>H</td>\n",
       "      <td>Chandler</td>\n",
       "      <td>AZ</td>\n",
       "      <td>False</td>\n",
       "      <td>attack</td>\n",
       "      <td>Car</td>\n",
       "      <td>False</td>\n",
       "    </tr>\n",
       "    <tr>\n",
       "      <th>7</th>\n",
       "      <td>2015-06-01</td>\n",
       "      <td>shot</td>\n",
       "      <td>gun</td>\n",
       "      <td>35.0</td>\n",
       "      <td>M</td>\n",
       "      <td>W</td>\n",
       "      <td>Assaria</td>\n",
       "      <td>KS</td>\n",
       "      <td>False</td>\n",
       "      <td>attack</td>\n",
       "      <td>Not fleeing</td>\n",
       "      <td>False</td>\n",
       "    </tr>\n",
       "    <tr>\n",
       "      <th>8</th>\n",
       "      <td>2015-06-01</td>\n",
       "      <td>shot</td>\n",
       "      <td>unarmed</td>\n",
       "      <td>34.0</td>\n",
       "      <td>F</td>\n",
       "      <td>W</td>\n",
       "      <td>Burlington</td>\n",
       "      <td>IA</td>\n",
       "      <td>False</td>\n",
       "      <td>other</td>\n",
       "      <td>Not fleeing</td>\n",
       "      <td>True</td>\n",
       "    </tr>\n",
       "    <tr>\n",
       "      <th>9</th>\n",
       "      <td>2015-06-01</td>\n",
       "      <td>shot</td>\n",
       "      <td>toy weapon</td>\n",
       "      <td>47.0</td>\n",
       "      <td>M</td>\n",
       "      <td>B</td>\n",
       "      <td>Knoxville</td>\n",
       "      <td>PA</td>\n",
       "      <td>False</td>\n",
       "      <td>attack</td>\n",
       "      <td>Not fleeing</td>\n",
       "      <td>False</td>\n",
       "    </tr>\n",
       "  </tbody>\n",
       "</table>\n",
       "</div>"
      ],
      "text/plain": [
       "        date   manner_of_death       armed   age gender race           city  \\\n",
       "0 2015-02-01              shot         gun  53.0      M    A        Shelton   \n",
       "1 2015-02-01              shot         gun  47.0      M    W          Aloha   \n",
       "2 2015-03-01  shot and Tasered     unarmed  23.0      M    H        Wichita   \n",
       "3 2015-04-01              shot  toy weapon  32.0      M    W  San Francisco   \n",
       "4 2015-04-01              shot    nail gun  39.0      M    H          Evans   \n",
       "5 2015-04-01              shot         gun  18.0      M    W        Guthrie   \n",
       "6 2015-05-01              shot         gun  22.0      M    H       Chandler   \n",
       "7 2015-06-01              shot         gun  35.0      M    W        Assaria   \n",
       "8 2015-06-01              shot     unarmed  34.0      F    W     Burlington   \n",
       "9 2015-06-01              shot  toy weapon  47.0      M    B      Knoxville   \n",
       "\n",
       "  state  signs_of_mental_illness threat_level         flee  body_camera  \n",
       "0    WA                     True       attack  Not fleeing        False  \n",
       "1    OR                    False       attack  Not fleeing        False  \n",
       "2    KS                    False        other  Not fleeing        False  \n",
       "3    CA                     True       attack  Not fleeing        False  \n",
       "4    CO                    False       attack  Not fleeing        False  \n",
       "5    OK                    False       attack  Not fleeing        False  \n",
       "6    AZ                    False       attack          Car        False  \n",
       "7    KS                    False       attack  Not fleeing        False  \n",
       "8    IA                    False        other  Not fleeing         True  \n",
       "9    PA                    False       attack  Not fleeing        False  "
      ]
     },
     "execution_count": 4,
     "metadata": {},
     "output_type": "execute_result"
    }
   ],
   "source": [
    "shootings_df.head(10)"
   ]
  },
  {
   "cell_type": "markdown",
   "metadata": {},
   "source": [
    "### 4.2 Interesting questions using the dataframe"
   ]
  },
  {
   "cell_type": "markdown",
   "metadata": {},
   "source": [
    "Here below we will ask interesting questions and answering them in a visual way, the questions are: \n",
    "* How are the shootings divided by race?\n",
    "* Is it more likely that the victim was unarmed if the officer has a bodycamera?\n",
    "* Is it more likely to be shot if you are a man?\n",
    "* What state has the most fatal police shootings?\n"
   ]
  },
  {
   "cell_type": "markdown",
   "metadata": {},
   "source": [
    "#### 4.2.1 Divison of races"
   ]
  },
  {
   "cell_type": "markdown",
   "metadata": {},
   "source": [
    "For the last five years an international activist [black lives matter](https://en.wikipedia.org/wiki/Black_Lives_Matter) movement have gained alot of attention through social media platforms and the news. This movement campains against violence and systemic racistm towards black people.\n",
    "In this chapter we will take a closer look at the divison of races in the United States regarding fatal police shootings.\n"
   ]
  },
  {
   "cell_type": "markdown",
   "metadata": {},
   "source": [
    "To show the difference between the races that are killed in police shootings from the data set we have decided to plot a pie chart which shows the percentages of each race involved in fatal police shootings.     \n",
    "\n",
    "The race in the shootings dataset sometimes contains other as a race value, which has no meaning to us. Therefor we will remove the row that contains other as a race before we start working the dataset."
   ]
  },
  {
   "cell_type": "code",
   "execution_count": 5,
   "metadata": {},
   "outputs": [
    {
     "name": "stdout",
     "output_type": "stream",
     "text": [
      "Removed 28 rows containing other as a race\n"
     ]
    }
   ],
   "source": [
    "# Remove rows that contain Other in the race column\n",
    "shootings_race_df = shootings_df[shootings_df.race != 'O']\n",
    "# Print how many rows we had to remove\n",
    "print('Removed', shootings_df.shape[0]-shootings_race_df.shape[0],'rows containing other as a race')"
   ]
  },
  {
   "cell_type": "code",
   "execution_count": 6,
   "metadata": {},
   "outputs": [],
   "source": [
    "def raceLabelToRace(raceLabel):\n",
    "    if(raceLabel == 'W'):\n",
    "        return 'White'\n",
    "    if(raceLabel == 'B'):\n",
    "        return 'Black'\n",
    "    if(raceLabel == 'N'):\n",
    "        return 'Native American'\n",
    "    if(raceLabel == 'A'):\n",
    "        return 'Asian'\n",
    "    if(raceLabel == 'H'):\n",
    "        return 'Hispanic'"
   ]
  },
  {
   "cell_type": "code",
   "execution_count": 7,
   "metadata": {},
   "outputs": [
    {
     "data": {
      "image/png": "[encoded data removed]",
      "text/plain": [
       "<Figure size 504x504 with 1 Axes>"
      ]
     },
     "metadata": {},
     "output_type": "display_data"
    }
   ],
   "source": [
    "# Race rates  \n",
    "labels = shootings_race_df['race'].value_counts().index\n",
    "# Change the labels we have to words, for easier reading\n",
    "labels = [raceLabelToRace(x) for x in labels]\n",
    "colors = ['#47ACB1', '#F26522', '#F9AA7B', '#FFCD34','#FFE8AF']\n",
    "values = shootings_race_df['race'].value_counts().values\n",
    "\n",
    "# Plotting the pie chart\n",
    "plt.figure(figsize = (7, 7))\n",
    "plt.pie(values, labels = labels, colors = colors, autopct = '%1.1f%%')\n",
    "plt.title('Race division of people in fatal police shootings', color = 'black', size = 20)\n",
    "plt.show()"
   ]
  },
  {
   "cell_type": "markdown",
   "metadata": {},
   "source": [
    "As we can see from the pie chart above, the majority or 51,9% of races killed in police shootings are categorized as white. By looking only at this data we would assume that it is more likely for people with white skin to be involved in a fatal police shooting.  \n",
    "Despite the results we can read from the pie chart above, it is unfair to assume that it is more likely that you are to fall victim of a fatal police shooting if you are white, since the majority of people living the United states have white skin.\n",
    "According to [KFF Population Distribution by Race/Ethnicity](https://www.kff.org/other/state-indicator/distribution-by-raceethnicity/?currentTimeframe=0&sortModel=%7B%22colId%22:%22Location%22,%22sort%22:%22asc%22%7D) the race distribution in the United states can be seen in the table below.\n",
    "We will then use this to get a more fair estimate of what race is more likely to be killed in a police shooting.\n",
    "\n",
    "By looking at the average race division in the United States,\n",
    "we can see in the table below that 61% percentage of people living in the US are white.\n",
    "To make a fair estimate we must therefor divide the number of fatal police shootings by the number of people in each race and calculate the new estimations.  \n",
    "We know the population of each state in 2017 from this website [enchantedLearning.com](https://www.enchantedlearning.com/usa/states/population.shtml), and can then use that data to calculate how many are living in the US in 2017.\n",
    "\n"
   ]
  },
  {
   "cell_type": "code",
   "execution_count": 8,
   "metadata": {},
   "outputs": [
    {
     "data": {
      "text/html": [
       "<div>\n",
       "<style scoped>\n",
       "    .dataframe tbody tr th:only-of-type {\n",
       "        vertical-align: middle;\n",
       "    }\n",
       "\n",
       "    .dataframe tbody tr th {\n",
       "        vertical-align: top;\n",
       "    }\n",
       "\n",
       "    .dataframe thead th {\n",
       "        text-align: right;\n",
       "    }\n",
       "</style>\n",
       "<table border=\"1\" class=\"dataframe\">\n",
       "  <thead>\n",
       "    <tr style=\"text-align: right;\">\n",
       "      <th></th>\n",
       "      <th>Location</th>\n",
       "      <th>White</th>\n",
       "      <th>Black</th>\n",
       "      <th>Hispanic</th>\n",
       "      <th>Asian</th>\n",
       "      <th>American Indian/Alaska Native</th>\n",
       "      <th>Native Hawaiian/Other Pacific Islander</th>\n",
       "    </tr>\n",
       "  </thead>\n",
       "  <tbody>\n",
       "    <tr>\n",
       "      <th>0</th>\n",
       "      <td>United States</td>\n",
       "      <td>0.61</td>\n",
       "      <td>0.12</td>\n",
       "      <td>0.18</td>\n",
       "      <td>0.06</td>\n",
       "      <td>0.01</td>\n",
       "      <td>&lt;.01</td>\n",
       "    </tr>\n",
       "  </tbody>\n",
       "</table>\n",
       "</div>"
      ],
      "text/plain": [
       "        Location  White  Black  Hispanic  Asian  \\\n",
       "0  United States   0.61   0.12      0.18   0.06   \n",
       "\n",
       "   American Indian/Alaska Native Native Hawaiian/Other Pacific Islander  \n",
       "0                           0.01                                   <.01  "
      ]
     },
     "execution_count": 8,
     "metadata": {},
     "output_type": "execute_result"
    }
   ],
   "source": [
    "# Get how many are living in USA 2017\n",
    "totalUsPopulation = USPopulation2017_df['Population (2017)'].sum()\n",
    "race_distribution_df"
   ]
  },
  {
   "cell_type": "code",
   "execution_count": 9,
   "metadata": {},
   "outputs": [
    {
     "data": {
      "text/html": [
       "<div>\n",
       "<style scoped>\n",
       "    .dataframe tbody tr th:only-of-type {\n",
       "        vertical-align: middle;\n",
       "    }\n",
       "\n",
       "    .dataframe tbody tr th {\n",
       "        vertical-align: top;\n",
       "    }\n",
       "\n",
       "    .dataframe thead th {\n",
       "        text-align: right;\n",
       "    }\n",
       "</style>\n",
       "<table border=\"1\" class=\"dataframe\">\n",
       "  <thead>\n",
       "    <tr style=\"text-align: right;\">\n",
       "      <th></th>\n",
       "      <th>Per N citizens</th>\n",
       "      <th>White</th>\n",
       "      <th>Black</th>\n",
       "      <th>Hispanic</th>\n",
       "      <th>Asian</th>\n",
       "    </tr>\n",
       "  </thead>\n",
       "  <tbody>\n",
       "    <tr>\n",
       "      <th>0</th>\n",
       "      <td>1k</td>\n",
       "      <td>0.006045</td>\n",
       "      <td>0.015811</td>\n",
       "      <td>0.007215</td>\n",
       "      <td>0.001996</td>\n",
       "    </tr>\n",
       "    <tr>\n",
       "      <th>1</th>\n",
       "      <td>10k</td>\n",
       "      <td>0.060446</td>\n",
       "      <td>0.158112</td>\n",
       "      <td>0.072148</td>\n",
       "      <td>0.019956</td>\n",
       "    </tr>\n",
       "    <tr>\n",
       "      <th>2</th>\n",
       "      <td>100k</td>\n",
       "      <td>0.604463</td>\n",
       "      <td>1.581117</td>\n",
       "      <td>0.721480</td>\n",
       "      <td>0.199558</td>\n",
       "    </tr>\n",
       "    <tr>\n",
       "      <th>3</th>\n",
       "      <td>1M</td>\n",
       "      <td>6.044632</td>\n",
       "      <td>15.811166</td>\n",
       "      <td>7.214804</td>\n",
       "      <td>1.995584</td>\n",
       "    </tr>\n",
       "  </tbody>\n",
       "</table>\n",
       "</div>"
      ],
      "text/plain": [
       "  Per N citizens     White      Black  Hispanic     Asian\n",
       "0             1k  0.006045   0.015811  0.007215  0.001996\n",
       "1            10k  0.060446   0.158112  0.072148  0.019956\n",
       "2           100k  0.604463   1.581117  0.721480  0.199558\n",
       "3             1M  6.044632  15.811166  7.214804  1.995584"
      ]
     },
     "execution_count": 9,
     "metadata": {},
     "output_type": "execute_result"
    }
   ],
   "source": [
    "# Calculate how likely you are to be involved in a fatal police shooting for each race.\n",
    "def oddsOfRaceKillings(raceLetter):\n",
    "    result = ((shootings_race_df[shootings_race_df['race'] == raceLetter].shape[0])/(totalUsPopulation*race_distribution_df[raceLabelToRace(raceLetter)]))\n",
    "    result = result[0]\n",
    "    return (result*1000,result*10000, result*100000, result*1000000)\n",
    "\n",
    "# Create a dataframe to display the killings of different races in police shootings\n",
    "d = {'Per N citizens':['1k','10k','100k','1M'], 'White': list(oddsOfRaceKillings('W')),\n",
    "     'Black': list(oddsOfRaceKillings('B')), 'Hispanic': list(oddsOfRaceKillings('H')),\n",
    "     'Asian': list(oddsOfRaceKillings('A'))}\n",
    "dff = pd.DataFrame(data=d)\n",
    "dff\n"
   ]
  },
  {
   "cell_type": "markdown",
   "metadata": {},
   "source": [
    "We can see in the table above that results of what race were the most involved in fatal police shootings have changed quite drastically. In the pie plot above that the white race were much more involved in fatal police shootings than the other races. After calculating the race distribution with population of each race we can see that people with black skin are almost three times more often than white skinned and two times more often than hispanic people."
   ]
  },
  {
   "cell_type": "markdown",
   "metadata": {},
   "source": [
    "#### 4.2.3 Is it more likely to be in a fatal police shooting if you are a man?"
   ]
  },
  {
   "cell_type": "markdown",
   "metadata": {},
   "source": [
    "In this chapter we will take a look at if it makes a difference whether, and if you are more likely to be in a fatal police shooting if you are a man.\n",
    "We will do so by taking a look at the distribution of the genders in the dataset of police shootings in the US, and displaying the results in a bar plot."
   ]
  },
  {
   "cell_type": "code",
   "execution_count": 10,
   "metadata": {},
   "outputs": [
    {
     "data": {
      "image/png": "[encoded data removed]",
      "text/plain": [
       "<Figure size 432x288 with 1 Axes>"
      ]
     },
     "metadata": {
      "needs_background": "light"
     },
     "output_type": "display_data"
    }
   ],
   "source": [
    "# Create the labels\n",
    "Labels = ('Male','Female' )\n",
    "y_pos = np.arange(len(Labels))\n",
    "# Get the values of how many were killed of each gender\n",
    "performance = shootings_df['gender'].value_counts().tolist()\n",
    "# Create the bar plot\n",
    "plt.bar(y_pos, performance, align='center', alpha=0.5)\n",
    "plt.xticks(y_pos, labels)\n",
    "plt.ylabel('Nr. of deaths')\n",
    "plt.title('Gender division of people in fatal police shootings in the US')\n",
    " \n",
    "plt.show()"
   ]
  },
  {
   "cell_type": "markdown",
   "metadata": {},
   "source": [
    "As we can see from the bar plot above, the majority of people killed in police shootings are male, where the data shows us that there were around 2400 males and around 100 females killed.  \n",
    "This shows us that it is much less likely to be killed in police shootings if you are a female than a male.\n"
   ]
  },
  {
   "cell_type": "markdown",
   "metadata": {},
   "source": [
    "#### 4.2.4 Police shooting according to state"
   ]
  },
  {
   "cell_type": "markdown",
   "metadata": {},
   "source": [
    "In each state the amount fatal police shootings is different and maybe more frequent in some states than others, therefor it is interesting to look at the distribution of how many were killed in each state.  \n",
    "In this chapter we will take a look at police shooting rate according to each state, and visualize it using a bar plot."
   ]
  },
  {
   "cell_type": "code",
   "execution_count": 11,
   "metadata": {},
   "outputs": [
    {
     "name": "stdout",
     "output_type": "stream",
     "text": [
      "51\n"
     ]
    },
    {
     "data": {
      "image/png": "[encoded data removed]",
      "text/plain": [
       "<Figure size 1080x576 with 1 Axes>"
      ]
     },
     "metadata": {
      "needs_background": "light"
     },
     "output_type": "display_data"
    }
   ],
   "source": [
    "# Create a states dictionary to convert from abbreviations to full names of states\n",
    "states = {'AK': 'Alaska','AL': 'Alabama','AR': 'Arkansas','AS': 'American Samoa','AZ': 'Arizona','CA': 'California','CO': 'Colorado','CT': 'Connecticut','DC': 'District of Columbia','DE': 'Delaware','FL': 'Florida','GA': 'Georgia','GU': 'Guam','HI': 'Hawaii','IA': 'Iowa','ID': 'Idaho','IL': 'Illinois','IN': 'Indiana','KS': 'Kansas','KY': 'Kentucky','LA': 'Louisiana','MA': 'Massachusetts','MD': 'Maryland','ME': 'Maine','MI': 'Michigan','MN': 'Minnesota','MO': 'Missouri','MP': 'Northern Mariana Islands','MS': 'Mississippi','MT': 'Montana','NA': 'National','NC': 'North Carolina','ND': 'North Dakota','NE': 'Nebraska','NH': 'New Hampshire','NJ': 'New Jersey','NM': 'New Mexico','NV': 'Nevada','NY': 'New York','OH': 'Ohio','OK': 'Oklahoma','OR': 'Oregon','PA': 'Pennsylvania','PR': 'Puerto Rico','RI': 'Rhode Island','SC': 'South Carolina','SD': 'South Dakota','TN': 'Tennessee','TX': 'Texas','UT': 'Utah','VA': 'Virginia','VI': 'Virgin Islands','VT': 'Vermont','WA': 'Washington','WI': 'Wisconsin','WV': 'West Virginia','WY': 'Wyoming'}\n",
    "# Change abbreviations of states to state names\n",
    "states_shootings_df = shootings_df.state.apply(lambda x : states[x])\n",
    "print(len(states_shootings_df.value_counts()))\n",
    "# Create the labels\n",
    "Labels = states_shootings_df.value_counts().index.tolist()\n",
    "y_pos = np.arange(len(Labels))\n",
    "# Get the values of how many were killed of each gender\n",
    "performance = states_shootings_df.value_counts().tolist()\n",
    "# Create the bar plot\n",
    "plt.figure(figsize = (15, 8))\n",
    "plt.bar(y_pos, performance, align='center', alpha=0.5, color='gray')\n",
    "plt.xticks(y_pos, Labels, rotation=90)\n",
    "plt.ylabel('Nr. of deaths')\n",
    "plt.title('State division of people in fatal police shootings in the US')\n",
    " \n",
    "plt.show()"
   ]
  },
  {
   "cell_type": "markdown",
   "metadata": {},
   "source": [
    "As we can see in the bar plot above there is a huge difference in the amounts of deaths in police shootings depending on the state.\n",
    "We can see that the state with the largest number of deaths by police shootings is with out a doubt the state of California, followed by Texas and the lowest number of deaths is in the  state of Rhode Island."
   ]
  },
  {
   "cell_type": "markdown",
   "metadata": {},
   "source": [
    "#### 4.2.5 Diving deeper into state divison of fatal police shootings"
   ]
  },
  {
   "cell_type": "markdown",
   "metadata": {},
   "source": [
    "To make a fair estimate of what state has the most fatal police shootings according to population, we must take into account how many people live in each state, we can do so by looking up for each state how many live in that state. From there we can divide the number of fatal police shootings by population of each state to get the probability of being in a fatal accident with the police in each state."
   ]
  },
  {
   "cell_type": "code",
   "execution_count": 12,
   "metadata": {},
   "outputs": [],
   "source": [
    "# Create new df and change the state to real name of state\n",
    "us_shootings_df = shootings_df\n",
    "us_shootings_df['state'] = shootings_df.state.apply(lambda x : states[x] if(x in states) else x)\n",
    "# Create dictionary out of how many occurences we have in each state\n",
    "StateOccurranceDict = dict(us_shootings_df['state'].value_counts())"
   ]
  },
  {
   "cell_type": "code",
   "execution_count": null,
   "metadata": {},
   "outputs": [],
   "source": []
  },
  {
   "cell_type": "code",
   "execution_count": 13,
   "metadata": {},
   "outputs": [],
   "source": [
    "# Remove the ',' in each population_estimate so we can calculate it\n",
    "population_by_state_df['population_estimate'] = population_by_state_df['population_estimate'].str.replace(',', '')\n",
    "\n",
    "# Create array to keep track of probability of being killed in police shooting for each state\n",
    "prob_of_death_per_state = []\n",
    "\n",
    "# Calculate the probability of being killed in each state\n",
    "for index, row in population_by_state_df.iterrows():\n",
    "    # if state is in dictionary calculate probability\n",
    "    if(StateOccurranceDict[row['state']]):\n",
    "        prob_of_death_per_state.append((row['state'],(float(StateOccurranceDict[row['state']])/float(row['population_estimate']))))\n",
    "            "
   ]
  },
  {
   "cell_type": "code",
   "execution_count": 14,
   "metadata": {},
   "outputs": [],
   "source": [
    "#Create dataframe from percentage calculations\n",
    "states_prob_df = pd.DataFrame(prob_of_death_per_state, columns=['state', 'probability_of_fatal_shooting (%)'])  \n",
    "# Format the probability column so it displays the result in human readable form\n",
    "states_prob_df['probability_of_fatal_shooting (%)'] = states_prob_df['probability_of_fatal_shooting (%)'].apply(lambda x : \"{:.5%}\".format(x))\n",
    "states_prob_df['probability_of_fatal_shooting (%)'] = states_prob_df['probability_of_fatal_shooting (%)'].apply(lambda x : x.replace('%',''))"
   ]
  },
  {
   "cell_type": "code",
   "execution_count": 15,
   "metadata": {},
   "outputs": [
    {
     "data": {
      "text/html": [
       "<div>\n",
       "<style scoped>\n",
       "    .dataframe tbody tr th:only-of-type {\n",
       "        vertical-align: middle;\n",
       "    }\n",
       "\n",
       "    .dataframe tbody tr th {\n",
       "        vertical-align: top;\n",
       "    }\n",
       "\n",
       "    .dataframe thead th {\n",
       "        text-align: right;\n",
       "    }\n",
       "</style>\n",
       "<table border=\"1\" class=\"dataframe\">\n",
       "  <thead>\n",
       "    <tr style=\"text-align: right;\">\n",
       "      <th></th>\n",
       "      <th>state</th>\n",
       "      <th>probability_of_fatal_shooting (%)</th>\n",
       "    </tr>\n",
       "  </thead>\n",
       "  <tbody>\n",
       "    <tr>\n",
       "      <th>39</th>\n",
       "      <td>Rhode Island</td>\n",
       "      <td>0.00019</td>\n",
       "    </tr>\n",
       "    <tr>\n",
       "      <th>34</th>\n",
       "      <td>New York</td>\n",
       "      <td>0.00023</td>\n",
       "    </tr>\n",
       "    <tr>\n",
       "      <th>6</th>\n",
       "      <td>Connecticut</td>\n",
       "      <td>0.00025</td>\n",
       "    </tr>\n",
       "    <tr>\n",
       "      <th>19</th>\n",
       "      <td>Massachusetts</td>\n",
       "      <td>0.00032</td>\n",
       "    </tr>\n",
       "    <tr>\n",
       "      <th>22</th>\n",
       "      <td>Michigan</td>\n",
       "      <td>0.00037</td>\n",
       "    </tr>\n",
       "    <tr>\n",
       "      <th>12</th>\n",
       "      <td>Iowa</td>\n",
       "      <td>0.00038</td>\n",
       "    </tr>\n",
       "    <tr>\n",
       "      <th>31</th>\n",
       "      <td>New Jersey</td>\n",
       "      <td>0.00039</td>\n",
       "    </tr>\n",
       "    <tr>\n",
       "      <th>38</th>\n",
       "      <td>Pennsylvania</td>\n",
       "      <td>0.00040</td>\n",
       "    </tr>\n",
       "    <tr>\n",
       "      <th>46</th>\n",
       "      <td>Vermont</td>\n",
       "      <td>0.00048</td>\n",
       "    </tr>\n",
       "    <tr>\n",
       "      <th>14</th>\n",
       "      <td>Illinois</td>\n",
       "      <td>0.00049</td>\n",
       "    </tr>\n",
       "  </tbody>\n",
       "</table>\n",
       "</div>"
      ],
      "text/plain": [
       "            state probability_of_fatal_shooting (%)\n",
       "39   Rhode Island                           0.00019\n",
       "34       New York                           0.00023\n",
       "6     Connecticut                           0.00025\n",
       "19  Massachusetts                           0.00032\n",
       "22       Michigan                           0.00037\n",
       "12           Iowa                           0.00038\n",
       "31     New Jersey                           0.00039\n",
       "38   Pennsylvania                           0.00040\n",
       "46        Vermont                           0.00048\n",
       "14       Illinois                           0.00049"
      ]
     },
     "execution_count": 15,
     "metadata": {},
     "output_type": "execute_result"
    }
   ],
   "source": [
    "result = states_prob_df.sort_values(by=['probability_of_fatal_shooting (%)'], ascending=True)\n",
    "result.head(10)"
   ]
  },
  {
   "cell_type": "code",
   "execution_count": 16,
   "metadata": {},
   "outputs": [
    {
     "data": {
      "image/png": "[encoded data removed]",
      "text/plain": [
       "<Figure size 1080x576 with 1 Axes>"
      ]
     },
     "metadata": {
      "needs_background": "light"
     },
     "output_type": "display_data"
    }
   ],
   "source": [
    "# Create the labels\n",
    "Labels = result['state'].tolist()\n",
    "y_pos = np.arange(len(Labels))\n",
    "# Get the values of how many were killed of each gender\n",
    "performance = result['probability_of_fatal_shooting (%)'].tolist()\n",
    "# Create the bar plot\n",
    "plt.figure(figsize = (15, 8))\n",
    "plt.bar(y_pos, performance, align='center', alpha=0.5, color='grey')\n",
    "plt.xticks(y_pos, Labels, rotation=90)\n",
    "plt.ylabel('Probability of being in a fatal police shooting')\n",
    "plt.title('Probability of being in a fatal police shooting accident')\n",
    " \n",
    "plt.show()"
   ]
  },
  {
   "cell_type": "markdown",
   "metadata": {},
   "source": [
    "As we can see in the bar plot above after calculating the probability of being in a fatal police shooting accident by each state, the state with the highest probability of people killed is Texas with 0.00259% probabilities. The state with the lowest probability is Rhode Island with 0.00019% probabilities.\n",
    "By comparing the two bar plots we can see there are alot of changes for some states, for example California in the previous bar plot had the highest number of people killed in police shootings, while it is now in 13'th place in the new bar plot which takes into account how many people live in the state.\n",
    "Which shows us that the population matters alot when comparing which state has the lowest and highest fatal police shootings."
   ]
  },
  {
   "cell_type": "markdown",
   "metadata": {},
   "source": [
    "With the data we have now gone over we can see that the best place to live in to avoid police shooting is Rhode Island."
   ]
  },
  {
   "cell_type": "markdown",
   "metadata": {},
   "source": [
    "## 4.3 Answering the question using the median income data"
   ]
  },
  {
   "cell_type": "markdown",
   "metadata": {},
   "source": [
    "Does it make a difference if the median income in a state is higher regarding to fatal police shootings?  \n",
    "We will answer this question by taking a look at the median income of each states in the United States and comparing \n",
    "the state income to how many fatal police shootings were."
   ]
  },
  {
   "cell_type": "code",
   "execution_count": 17,
   "metadata": {},
   "outputs": [
    {
     "data": {
      "text/html": [
       "<div>\n",
       "<style scoped>\n",
       "    .dataframe tbody tr th:only-of-type {\n",
       "        vertical-align: middle;\n",
       "    }\n",
       "\n",
       "    .dataframe tbody tr th {\n",
       "        vertical-align: top;\n",
       "    }\n",
       "\n",
       "    .dataframe thead th {\n",
       "        text-align: right;\n",
       "    }\n",
       "</style>\n",
       "<table border=\"1\" class=\"dataframe\">\n",
       "  <thead>\n",
       "    <tr style=\"text-align: right;\">\n",
       "      <th></th>\n",
       "      <th>Geographic Area</th>\n",
       "      <th>City</th>\n",
       "      <th>Median Income</th>\n",
       "    </tr>\n",
       "  </thead>\n",
       "  <tbody>\n",
       "    <tr>\n",
       "      <th>0</th>\n",
       "      <td>AL</td>\n",
       "      <td>Abanda CDP</td>\n",
       "      <td>11207</td>\n",
       "    </tr>\n",
       "    <tr>\n",
       "      <th>1</th>\n",
       "      <td>AL</td>\n",
       "      <td>Abbeville city</td>\n",
       "      <td>25615</td>\n",
       "    </tr>\n",
       "    <tr>\n",
       "      <th>2</th>\n",
       "      <td>AL</td>\n",
       "      <td>Adamsville city</td>\n",
       "      <td>42575</td>\n",
       "    </tr>\n",
       "    <tr>\n",
       "      <th>3</th>\n",
       "      <td>AL</td>\n",
       "      <td>Addison town</td>\n",
       "      <td>37083</td>\n",
       "    </tr>\n",
       "    <tr>\n",
       "      <th>4</th>\n",
       "      <td>AL</td>\n",
       "      <td>Akron town</td>\n",
       "      <td>21667</td>\n",
       "    </tr>\n",
       "    <tr>\n",
       "      <th>5</th>\n",
       "      <td>AL</td>\n",
       "      <td>Alabaster city</td>\n",
       "      <td>71816</td>\n",
       "    </tr>\n",
       "    <tr>\n",
       "      <th>6</th>\n",
       "      <td>AL</td>\n",
       "      <td>Albertville city</td>\n",
       "      <td>32911</td>\n",
       "    </tr>\n",
       "    <tr>\n",
       "      <th>7</th>\n",
       "      <td>AL</td>\n",
       "      <td>Alexander City city</td>\n",
       "      <td>29874</td>\n",
       "    </tr>\n",
       "    <tr>\n",
       "      <th>8</th>\n",
       "      <td>AL</td>\n",
       "      <td>Alexandria CDP</td>\n",
       "      <td>56058</td>\n",
       "    </tr>\n",
       "    <tr>\n",
       "      <th>9</th>\n",
       "      <td>AL</td>\n",
       "      <td>Aliceville city</td>\n",
       "      <td>21131</td>\n",
       "    </tr>\n",
       "  </tbody>\n",
       "</table>\n",
       "</div>"
      ],
      "text/plain": [
       "  Geographic Area                 City Median Income\n",
       "0              AL           Abanda CDP         11207\n",
       "1              AL       Abbeville city         25615\n",
       "2              AL      Adamsville city         42575\n",
       "3              AL         Addison town         37083\n",
       "4              AL           Akron town         21667\n",
       "5              AL       Alabaster city         71816\n",
       "6              AL     Albertville city         32911\n",
       "7              AL  Alexander City city         29874\n",
       "8              AL       Alexandria CDP         56058\n",
       "9              AL      Aliceville city         21131"
      ]
     },
     "execution_count": 17,
     "metadata": {},
     "output_type": "execute_result"
    }
   ],
   "source": [
    "medianIncome_df.head(10)"
   ]
  },
  {
   "cell_type": "markdown",
   "metadata": {},
   "source": [
    "In the table above we can see how a subset of our median income dataset looks like, we have information about the\n",
    "states, what cities and what the median income is."
   ]
  },
  {
   "cell_type": "markdown",
   "metadata": {},
   "source": [
    "#### 4.3.2 Missing values of median income dataset"
   ]
  },
  {
   "cell_type": "markdown",
   "metadata": {},
   "source": [
    "In our dataset about median income of the cities in the unitedStates we have some missing data"
   ]
  },
  {
   "cell_type": "code",
   "execution_count": 18,
   "metadata": {},
   "outputs": [],
   "source": [
    "import pandas as pd  \n",
    "import numpy as np  \n",
    "import matplotlib.pyplot as plt  \n",
    "import seaborn as seabornInstance \n",
    "from sklearn.model_selection import train_test_split \n",
    "from sklearn.linear_model import LinearRegression\n",
    "from sklearn import metrics\n",
    "%matplotlib inline\n",
    "import copy \n"
   ]
  },
  {
   "cell_type": "code",
   "execution_count": 19,
   "metadata": {},
   "outputs": [],
   "source": [
    "medianIncome_df = medianIncome_df.rename(index=str, columns={\"Median Income\": \"Median_Income\", \"Geographic Area\": \"Geographic_Area\"})\n",
    "medianIncome_df['Median_Income'] = medianIncome_df['Median_Income'].apply(lambda x : float(x))"
   ]
  },
  {
   "cell_type": "code",
   "execution_count": 20,
   "metadata": {},
   "outputs": [
    {
     "data": {
      "text/html": [
       "<div>\n",
       "<style scoped>\n",
       "    .dataframe tbody tr th:only-of-type {\n",
       "        vertical-align: middle;\n",
       "    }\n",
       "\n",
       "    .dataframe tbody tr th {\n",
       "        vertical-align: top;\n",
       "    }\n",
       "\n",
       "    .dataframe thead th {\n",
       "        text-align: right;\n",
       "    }\n",
       "</style>\n",
       "<table border=\"1\" class=\"dataframe\">\n",
       "  <thead>\n",
       "    <tr style=\"text-align: right;\">\n",
       "      <th></th>\n",
       "      <th>Geographic_Area</th>\n",
       "      <th>City</th>\n",
       "      <th>Median_Income</th>\n",
       "    </tr>\n",
       "  </thead>\n",
       "  <tbody>\n",
       "    <tr>\n",
       "      <th>0</th>\n",
       "      <td>AL</td>\n",
       "      <td>Abanda CDP</td>\n",
       "      <td>11207.0</td>\n",
       "    </tr>\n",
       "    <tr>\n",
       "      <th>1</th>\n",
       "      <td>AL</td>\n",
       "      <td>Abbeville city</td>\n",
       "      <td>25615.0</td>\n",
       "    </tr>\n",
       "    <tr>\n",
       "      <th>2</th>\n",
       "      <td>AL</td>\n",
       "      <td>Adamsville city</td>\n",
       "      <td>42575.0</td>\n",
       "    </tr>\n",
       "    <tr>\n",
       "      <th>3</th>\n",
       "      <td>AL</td>\n",
       "      <td>Addison town</td>\n",
       "      <td>37083.0</td>\n",
       "    </tr>\n",
       "    <tr>\n",
       "      <th>4</th>\n",
       "      <td>AL</td>\n",
       "      <td>Akron town</td>\n",
       "      <td>21667.0</td>\n",
       "    </tr>\n",
       "    <tr>\n",
       "      <th>5</th>\n",
       "      <td>AL</td>\n",
       "      <td>Alabaster city</td>\n",
       "      <td>71816.0</td>\n",
       "    </tr>\n",
       "    <tr>\n",
       "      <th>6</th>\n",
       "      <td>AL</td>\n",
       "      <td>Albertville city</td>\n",
       "      <td>32911.0</td>\n",
       "    </tr>\n",
       "    <tr>\n",
       "      <th>7</th>\n",
       "      <td>AL</td>\n",
       "      <td>Alexander City city</td>\n",
       "      <td>29874.0</td>\n",
       "    </tr>\n",
       "    <tr>\n",
       "      <th>8</th>\n",
       "      <td>AL</td>\n",
       "      <td>Alexandria CDP</td>\n",
       "      <td>56058.0</td>\n",
       "    </tr>\n",
       "    <tr>\n",
       "      <th>9</th>\n",
       "      <td>AL</td>\n",
       "      <td>Aliceville city</td>\n",
       "      <td>21131.0</td>\n",
       "    </tr>\n",
       "  </tbody>\n",
       "</table>\n",
       "</div>"
      ],
      "text/plain": [
       "  Geographic_Area                 City  Median_Income\n",
       "0              AL           Abanda CDP        11207.0\n",
       "1              AL       Abbeville city        25615.0\n",
       "2              AL      Adamsville city        42575.0\n",
       "3              AL         Addison town        37083.0\n",
       "4              AL           Akron town        21667.0\n",
       "5              AL       Alabaster city        71816.0\n",
       "6              AL     Albertville city        32911.0\n",
       "7              AL  Alexander City city        29874.0\n",
       "8              AL       Alexandria CDP        56058.0\n",
       "9              AL      Aliceville city        21131.0"
      ]
     },
     "execution_count": 20,
     "metadata": {},
     "output_type": "execute_result"
    }
   ],
   "source": [
    "medianIncome_df.head(10)"
   ]
  },
  {
   "cell_type": "code",
   "execution_count": 21,
   "metadata": {},
   "outputs": [
    {
     "data": {
      "image/png": "[encoded data removed]",
      "text/plain": [
       "<Figure size 432x288 with 1 Axes>"
      ]
     },
     "metadata": {
      "needs_background": "light"
     },
     "output_type": "display_data"
    }
   ],
   "source": [
    "medianIncome_df.plot(x='Geographic_Area', y='Median_Income', style='o')  \n",
    "plt.title('MinTemp vs MaxTemp')  \n",
    "plt.xlabel('MinTemp')  \n",
    "plt.ylabel('MaxTemp')  \n",
    "plt.show()"
   ]
  },
  {
   "cell_type": "code",
   "execution_count": 22,
   "metadata": {},
   "outputs": [
    {
     "name": "stderr",
     "output_type": "stream",
     "text": [
      "C:\\ProgramData\\Anaconda3\\lib\\site-packages\\scipy\\stats\\stats.py:1713: FutureWarning: Using a non-tuple sequence for multidimensional indexing is deprecated; use `arr[tuple(seq)]` instead of `arr[seq]`. In the future this will be interpreted as an array index, `arr[np.array(seq)]`, which will result either in an error or a different result.\n",
      "  return np.add.reduce(sorted[indexer] * weights, axis=axis) / sumval\n"
     ]
    },
    {
     "data": {
      "text/plain": [
       "<matplotlib.axes._subplots.AxesSubplot at 0x28ac4087ef0>"
      ]
     },
     "execution_count": 22,
     "metadata": {},
     "output_type": "execute_result"
    },
    {
     "data": {
      "image/png": "[encoded data removed]",
      "text/plain": [
       "<Figure size 1080x720 with 1 Axes>"
      ]
     },
     "metadata": {
      "needs_background": "light"
     },
     "output_type": "display_data"
    }
   ],
   "source": [
    "plt.figure(figsize=(15,10))\n",
    "plt.tight_layout()\n",
    "seabornInstance.distplot(medianIncome_df['Median_Income'])"
   ]
  },
  {
   "cell_type": "code",
   "execution_count": 23,
   "metadata": {},
   "outputs": [
    {
     "data": {
      "text/plain": [
       "4"
      ]
     },
     "execution_count": 23,
     "metadata": {},
     "output_type": "execute_result"
    }
   ],
   "source": [
    "testdict = {}\n",
    "\n",
    "statestest = {'AK': 'Alaska','AL': 'Alabama','AR': 'Arkansas','AS': 'American Samoa','AZ': 'Arizona','CA': 'California','CO': 'Colorado','CT': 'Connecticut','DC': 'District of Columbia','DE': 'Delaware','FL': 'Florida','GA': 'Georgia','GU': 'Guam','HI': 'Hawaii','IA': 'Iowa','ID': 'Idaho','IL': 'Illinois','IN': 'Indiana','KS': 'Kansas','KY': 'Kentucky','LA': 'Louisiana','MA': 'Massachusetts','MD': 'Maryland','ME': 'Maine','MI': 'Michigan','MN': 'Minnesota','MO': 'Missouri','MP': 'Northern Mariana Islands','MS': 'Mississippi','MT': 'Montana','NA': 'National','NC': 'North Carolina','ND': 'North Dakota','NE': 'Nebraska','NH': 'New Hampshire','NJ': 'New Jersey','NM': 'New Mexico','NV': 'Nevada','NY': 'New York','OH': 'Ohio','OK': 'Oklahoma','OR': 'Oregon','PA': 'Pennsylvania','PR': 'Puerto Rico','RI': 'Rhode Island','SC': 'South Carolina','SD': 'South Dakota','TN': 'Tennessee','TX': 'Texas','UT': 'Utah','VA': 'Virginia','VI': 'Virgin Islands','VT': 'Vermont','WA': 'Washington','WI': 'Wisconsin','WV': 'West Virginia','WY': 'Wyoming'}\n",
    "count= 1\n",
    "for x in statestest:\n",
    "    statestest[x] = count\n",
    "    count += 1\n",
    "medianIncomeClassdf = copy.deepcopy(medianIncome_df)\n",
    "medianIncomeClassdf['Geographic_Area'] = medianIncomeClassdf['Geographic_Area'].apply(lambda x : statestest[x] if x in statestest else x)\n",
    "statestest['AS']\n"
   ]
  },
  {
   "cell_type": "code",
   "execution_count": 24,
   "metadata": {},
   "outputs": [],
   "source": [
    "X = medianIncomeClassdf['Geographic_Area'].values.reshape(-1,1)\n",
    "y = medianIncomeClassdf['Median_Income'].values.reshape(-1,1)"
   ]
  },
  {
   "cell_type": "code",
   "execution_count": 25,
   "metadata": {},
   "outputs": [],
   "source": [
    "X_train, X_test, y_train, y_test = train_test_split(X, y, test_size=0.2, random_state=0)"
   ]
  },
  {
   "cell_type": "code",
   "execution_count": 26,
   "metadata": {},
   "outputs": [
    {
     "data": {
      "text/plain": [
       "array([[ 31042.],\n",
       "       [104276.],\n",
       "       [ 75383.],\n",
       "       ...,\n",
       "       [ 60375.],\n",
       "       [ 32863.],\n",
       "       [ 25909.]])"
      ]
     },
     "execution_count": 26,
     "metadata": {},
     "output_type": "execute_result"
    }
   ],
   "source": [
    "y_test"
   ]
  },
  {
   "cell_type": "code",
   "execution_count": 27,
   "metadata": {},
   "outputs": [],
   "source": [
    "regressor = LinearRegression() "
   ]
  },
  {
   "cell_type": "code",
   "execution_count": 28,
   "metadata": {},
   "outputs": [
    {
     "data": {
      "text/plain": [
       "LinearRegression(copy_X=True, fit_intercept=True, n_jobs=None,\n",
       "         normalize=False)"
      ]
     },
     "execution_count": 28,
     "metadata": {},
     "output_type": "execute_result"
    }
   ],
   "source": [
    "regressor.fit(X_train, y_train) #training the algorithm"
   ]
  },
  {
   "cell_type": "code",
   "execution_count": 29,
   "metadata": {},
   "outputs": [
    {
     "name": "stdout",
     "output_type": "stream",
     "text": [
      "[49909.88493]\n",
      "[[47.93000268]]\n"
     ]
    }
   ],
   "source": [
    "#To retrieve the intercept:\n",
    "print(regressor.intercept_)\n",
    "#For retrieving the slope:\n",
    "print(regressor.coef_)\n"
   ]
  },
  {
   "cell_type": "code",
   "execution_count": 30,
   "metadata": {},
   "outputs": [],
   "source": [
    "y_pred = regressor.predict(X_test)"
   ]
  },
  {
   "cell_type": "code",
   "execution_count": 31,
   "metadata": {},
   "outputs": [
    {
     "data": {
      "text/html": [
       "<div>\n",
       "<style scoped>\n",
       "    .dataframe tbody tr th:only-of-type {\n",
       "        vertical-align: middle;\n",
       "    }\n",
       "\n",
       "    .dataframe tbody tr th {\n",
       "        vertical-align: top;\n",
       "    }\n",
       "\n",
       "    .dataframe thead th {\n",
       "        text-align: right;\n",
       "    }\n",
       "</style>\n",
       "<table border=\"1\" class=\"dataframe\">\n",
       "  <thead>\n",
       "    <tr style=\"text-align: right;\">\n",
       "      <th></th>\n",
       "      <th>Actual</th>\n",
       "      <th>Predicted</th>\n",
       "    </tr>\n",
       "  </thead>\n",
       "  <tbody>\n",
       "    <tr>\n",
       "      <th>0</th>\n",
       "      <td>31042.0</td>\n",
       "      <td>52114.665053</td>\n",
       "    </tr>\n",
       "    <tr>\n",
       "      <th>1</th>\n",
       "      <td>104276.0</td>\n",
       "      <td>51970.875045</td>\n",
       "    </tr>\n",
       "    <tr>\n",
       "      <th>2</th>\n",
       "      <td>75383.0</td>\n",
       "      <td>51827.085037</td>\n",
       "    </tr>\n",
       "    <tr>\n",
       "      <th>3</th>\n",
       "      <td>30625.0</td>\n",
       "      <td>51203.995002</td>\n",
       "    </tr>\n",
       "    <tr>\n",
       "      <th>4</th>\n",
       "      <td>72900.0</td>\n",
       "      <td>51922.945043</td>\n",
       "    </tr>\n",
       "    <tr>\n",
       "      <th>5</th>\n",
       "      <td>26500.0</td>\n",
       "      <td>51875.015040</td>\n",
       "    </tr>\n",
       "    <tr>\n",
       "      <th>6</th>\n",
       "      <td>71667.0</td>\n",
       "      <td>51779.155035</td>\n",
       "    </tr>\n",
       "    <tr>\n",
       "      <th>7</th>\n",
       "      <td>80000.0</td>\n",
       "      <td>51539.505021</td>\n",
       "    </tr>\n",
       "    <tr>\n",
       "      <th>8</th>\n",
       "      <td>59464.0</td>\n",
       "      <td>51443.645016</td>\n",
       "    </tr>\n",
       "    <tr>\n",
       "      <th>9</th>\n",
       "      <td>28365.0</td>\n",
       "      <td>51299.855008</td>\n",
       "    </tr>\n",
       "  </tbody>\n",
       "</table>\n",
       "</div>"
      ],
      "text/plain": [
       "     Actual     Predicted\n",
       "0   31042.0  52114.665053\n",
       "1  104276.0  51970.875045\n",
       "2   75383.0  51827.085037\n",
       "3   30625.0  51203.995002\n",
       "4   72900.0  51922.945043\n",
       "5   26500.0  51875.015040\n",
       "6   71667.0  51779.155035\n",
       "7   80000.0  51539.505021\n",
       "8   59464.0  51443.645016\n",
       "9   28365.0  51299.855008"
      ]
     },
     "execution_count": 31,
     "metadata": {},
     "output_type": "execute_result"
    }
   ],
   "source": [
    "df = pd.DataFrame({'Actual': y_test.flatten(), 'Predicted': y_pred.flatten()})\n",
    "df.head(10)"
   ]
  },
  {
   "cell_type": "code",
   "execution_count": 32,
   "metadata": {},
   "outputs": [
    {
     "name": "stdout",
     "output_type": "stream",
     "text": [
      "Mean Absolute Error: 17107.88038395868\n"
     ]
    }
   ],
   "source": [
    "print('Mean Absolute Error:', metrics.mean_absolute_error(y_test, y_pred))"
   ]
  },
  {
   "cell_type": "markdown",
   "metadata": {},
   "source": [
    "#### 4.3.1 Where is the highest median income"
   ]
  },
  {
   "cell_type": "markdown",
   "metadata": {},
   "source": [
    "In each city the median income is different and it might make a difference on how much crime, and therefor how many fatal police shootings occur in each city. In this chapter we will look at the state with the  highest\n",
    "and lowest median incomes. To find the median income for each state we must sum up the median income for all cities in the state and devide by the number of cities. "
   ]
  },
  {
   "cell_type": "code",
   "execution_count": 33,
   "metadata": {},
   "outputs": [],
   "source": [
    "median_income_by_state = medianIncome_df.drop(['City'], axis=1)\n",
    "median_income_by_state['Median_Income'] = median_income_by_state['Median_Income'].apply(lambda x: float(x))"
   ]
  },
  {
   "cell_type": "code",
   "execution_count": 34,
   "metadata": {},
   "outputs": [],
   "source": [
    "# Calculating the median income for each state\n",
    "median_income_by_state = median_income_by_state.groupby(['Geographic_Area']).mean().reset_index()\n",
    "# Convert from abbreviations to full names of states\n",
    "median_income_by_state['Geographic_Area'] = median_income_by_state['Geographic_Area'].apply(lambda x: states[x] if x in states else x)\n",
    "# Create df with the 10 largest median income\n",
    "largest_median_income_by_state = median_income_by_state.nlargest(10, 'Median_Income')\n",
    "# Create df with the 10 smallest median income\n",
    "smallest_median_income_by_state = median_income_by_state.nsmallest(10, 'Median_Income')"
   ]
  },
  {
   "cell_type": "code",
   "execution_count": 35,
   "metadata": {
    "scrolled": true
   },
   "outputs": [
    {
     "data": {
      "image/png": "[encoded data removed]",
      "text/plain": [
       "<Figure size 1080x360 with 1 Axes>"
      ]
     },
     "metadata": {
      "needs_background": "light"
     },
     "output_type": "display_data"
    }
   ],
   "source": [
    "# Create the labels\n",
    "Labels = (largest_median_income_by_state['Geographic_Area'].tolist())\n",
    "y_pos = np.arange(len(Labels))\n",
    "# Get the value of median income for each state\n",
    "performance = largest_median_income_by_state['Median_Income'].tolist()\n",
    "# Create the bar plot\n",
    "plt.figure(figsize = (15, 5))\n",
    "plt.bar(y_pos, performance, align='center', alpha=0.5)\n",
    "plt.xticks(y_pos, Labels, rotation=45)\n",
    "plt.ylabel('Dollars')\n",
    "plt.title('Division of median yearly income for the top ten states')\n",
    " \n",
    "plt.show()"
   ]
  },
  {
   "cell_type": "markdown",
   "metadata": {},
   "source": [
    "From the bar plot above we can see that the top ten states with the highest yearly median income ranges from 80.000 to 60.000 dollars where New Jersey has the highest and Virginia is the lowest of the top ten states."
   ]
  },
  {
   "cell_type": "code",
   "execution_count": 37,
   "metadata": {},
   "outputs": [
    {
     "data": {
      "image/png": "[encoded data removed]",
      "text/plain": [
       "<Figure size 1080x360 with 1 Axes>"
      ]
     },
     "metadata": {
      "needs_background": "light"
     },
     "output_type": "display_data"
    }
   ],
   "source": [
    "# Create the labels\n",
    "Labels = (smallest_median_income_by_state['Geographic_Area'].tolist())\n",
    "y_pos = np.arange(len(Labels))\n",
    "# Get the value of median income for each city\n",
    "performance = smallest_median_income_by_state['Median_Income'].tolist()\n",
    "# Create the bar plot\n",
    "plt.figure(figsize = (15, 5))\n",
    "plt.bar(y_pos, performance, align='center', alpha=0.5)\n",
    "plt.xticks(y_pos, Labels, rotation=45)\n",
    "plt.ylabel('Dollars')\n",
    "plt.title('Division of median yearly income by each state')\n",
    " \n",
    "plt.show()"
   ]
  },
  {
   "cell_type": "markdown",
   "metadata": {},
   "source": [
    "The bar plot above shows us the ten lowest states regarding median yearly income. The lowest states range from 41.000 down to 35.000 dollars.\n",
    "By comparing the two plots we can see that there is significant difference between the top ten and lowest ten states regarding median yearly income."
   ]
  },
  {
   "cell_type": "markdown",
   "metadata": {},
   "source": [
    "#### 4.3.2 Is it better to live in a place with higher income"
   ]
  },
  {
   "cell_type": "markdown",
   "metadata": {},
   "source": [
    "Given the data we have gathered now it would be interesting to look at the correlation between each states median income versus number of fatal police shootings. \n",
    "We will do so in this chapter by making a scatter plot where the axis represent median income and number of fatal shootings."
   ]
  },
  {
   "cell_type": "code",
   "execution_count": 38,
   "metadata": {},
   "outputs": [],
   "source": [
    "# Sort shootings df by state, so that we can plot it correctly\n",
    "results_shootings = shootings_df.sort_values(by=['state'], ascending=True)\n",
    "# Sort median income by state\n",
    "results_median_income = median_income_by_state.sort_values(by=['Geographic_Area'],ascending=True)"
   ]
  },
  {
   "cell_type": "code",
   "execution_count": 40,
   "metadata": {},
   "outputs": [
    {
     "data": {
      "image/png": "[encoded data removed]",
      "text/plain": [
       "<Figure size 1440x720 with 1 Axes>"
      ]
     },
     "metadata": {},
     "output_type": "display_data"
    }
   ],
   "source": [
    "# Create dataframe for plotting\n",
    "df = pd.DataFrame({\n",
    "# Create the x-axis\n",
    "'Median_Income': results_median_income['Median_Income'].tolist(),\n",
    "# Create the y-axes\n",
    "'Number_of_fatal_police_shootings': results_shootings['state'].value_counts().sort_index().tolist(),\n",
    "# Create the labels for each state\n",
    "'group': results_shootings['state'].value_counts().sort_index().index.tolist()\n",
    "})\n",
    "# Setting the size of the scatter plot\n",
    "sns.set(rc={'figure.figsize':(20,10)})\n",
    "# Plotting the data points\n",
    "p1=sns.regplot(data=df, x=\"Median_Income\", y=\"Number_of_fatal_police_shootings\", fit_reg=False, marker=\"o\", color=\"skyblue\", scatter_kws={'s':200})\n",
    "\n",
    "# Add annotations for each states\n",
    "for line in range(0,df.shape[0]):\n",
    "     p1.text(df.Median_Income[line]+0.2, df.Number_of_fatal_police_shootings[line], df.group[line], horizontalalignment='left', size='medium', color='black', weight='semibold')\n",
    "\n",
    "\n"
   ]
  },
  {
   "cell_type": "markdown",
   "metadata": {},
   "source": [
    "From the scatter plot above we can see that there is little to none relations between median income and number of fatality in police shooting. If we look at for example Massachusetts which has around 73.000 dollars in median income and West virginia which has around 38.000 dollars in median income we can see they have similar fatal police shootings."
   ]
  },
  {
   "cell_type": "markdown",
   "metadata": {},
   "source": [
    "# 4.4 Police shootings with poverty levels"
   ]
  },
  {
   "cell_type": "markdown",
   "metadata": {},
   "source": [
    "In this chapter we will go over the data which contains information about poverty level. But what is poverty?\n",
    "Poverty is about not having enough money to meet basic needs including food, clothing and shelter.  \n",
    "The poverty level data provides poverty_rate for each city in the United States. The poverty_rate describes how many percentages of people in the corrosponding state are below poverty level. \n",
    "Here below you can see the first 10 lines in the dataframe for better understanding of what data we got."
   ]
  },
  {
   "cell_type": "code",
   "execution_count": null,
   "metadata": {},
   "outputs": [],
   "source": [
    "povertyLevel_df.head(10)"
   ]
  },
  {
   "cell_type": "markdown",
   "metadata": {},
   "source": [
    "### 4.4.1 Where is the highest poverty rate"
   ]
  },
  {
   "cell_type": "markdown",
   "metadata": {},
   "source": [
    "Here below we will take a look at the poverty level for each state in the United States."
   ]
  },
  {
   "cell_type": "code",
   "execution_count": null,
   "metadata": {},
   "outputs": [],
   "source": [
    "# Take out the city column and convert poverty_rate to float so we can work with it\n",
    "states_poverty_level = povertyLevel_df.drop(['City'], axis=1)\n",
    "states_poverty_level['poverty_rate'] = states_poverty_level['poverty_rate'].apply(lambda x: float(x))"
   ]
  },
  {
   "cell_type": "code",
   "execution_count": null,
   "metadata": {},
   "outputs": [],
   "source": [
    "states_poverty_level.head(10)"
   ]
  },
  {
   "cell_type": "code",
   "execution_count": 41,
   "metadata": {},
   "outputs": [
    {
     "ename": "KeyError",
     "evalue": "'Geographic_Area'",
     "output_type": "error",
     "traceback": [
      "\u001b[1;31m---------------------------------------------------------------------------\u001b[0m",
      "\u001b[1;31mKeyError\u001b[0m                                  Traceback (most recent call last)",
      "\u001b[1;32mC:\\ProgramData\\Anaconda3\\lib\\site-packages\\pandas\\core\\indexes\\base.py\u001b[0m in \u001b[0;36mget_loc\u001b[1;34m(self, key, method, tolerance)\u001b[0m\n\u001b[0;32m   3077\u001b[0m             \u001b[1;32mtry\u001b[0m\u001b[1;33m:\u001b[0m\u001b[1;33m\u001b[0m\u001b[1;33m\u001b[0m\u001b[0m\n\u001b[1;32m-> 3078\u001b[1;33m                 \u001b[1;32mreturn\u001b[0m \u001b[0mself\u001b[0m\u001b[1;33m.\u001b[0m\u001b[0m_engine\u001b[0m\u001b[1;33m.\u001b[0m\u001b[0mget_loc\u001b[0m\u001b[1;33m(\u001b[0m\u001b[0mkey\u001b[0m\u001b[1;33m)\u001b[0m\u001b[1;33m\u001b[0m\u001b[1;33m\u001b[0m\u001b[0m\n\u001b[0m\u001b[0;32m   3079\u001b[0m             \u001b[1;32mexcept\u001b[0m \u001b[0mKeyError\u001b[0m\u001b[1;33m:\u001b[0m\u001b[1;33m\u001b[0m\u001b[1;33m\u001b[0m\u001b[0m\n",
      "\u001b[1;32mpandas\\_libs\\index.pyx\u001b[0m in \u001b[0;36mpandas._libs.index.IndexEngine.get_loc\u001b[1;34m()\u001b[0m\n",
      "\u001b[1;32mpandas\\_libs\\index.pyx\u001b[0m in \u001b[0;36mpandas._libs.index.IndexEngine.get_loc\u001b[1;34m()\u001b[0m\n",
      "\u001b[1;32mpandas\\_libs\\hashtable_class_helper.pxi\u001b[0m in \u001b[0;36mpandas._libs.hashtable.PyObjectHashTable.get_item\u001b[1;34m()\u001b[0m\n",
      "\u001b[1;32mpandas\\_libs\\hashtable_class_helper.pxi\u001b[0m in \u001b[0;36mpandas._libs.hashtable.PyObjectHashTable.get_item\u001b[1;34m()\u001b[0m\n",
      "\u001b[1;31mKeyError\u001b[0m: 'Geographic_Area'",
      "\nDuring handling of the above exception, another exception occurred:\n",
      "\u001b[1;31mKeyError\u001b[0m                                  Traceback (most recent call last)",
      "\u001b[1;32m<ipython-input-41-35c7d9ee7e9a>\u001b[0m in \u001b[0;36m<module>\u001b[1;34m\u001b[0m\n\u001b[0;32m      1\u001b[0m \u001b[1;31m# Change abbreviations of states to state names\u001b[0m\u001b[1;33m\u001b[0m\u001b[1;33m\u001b[0m\u001b[1;33m\u001b[0m\u001b[0m\n\u001b[1;32m----> 2\u001b[1;33m \u001b[0mstates_poverty_level\u001b[0m\u001b[1;33m[\u001b[0m\u001b[1;34m'Geographic_Area'\u001b[0m\u001b[1;33m]\u001b[0m \u001b[1;33m=\u001b[0m \u001b[0mpovertyLevel_df\u001b[0m\u001b[1;33m[\u001b[0m\u001b[1;34m'Geographic_Area'\u001b[0m\u001b[1;33m]\u001b[0m\u001b[1;33m.\u001b[0m\u001b[0mapply\u001b[0m\u001b[1;33m(\u001b[0m\u001b[1;32mlambda\u001b[0m \u001b[0mx\u001b[0m \u001b[1;33m:\u001b[0m \u001b[0mstates\u001b[0m\u001b[1;33m[\u001b[0m\u001b[0mx\u001b[0m\u001b[1;33m]\u001b[0m \u001b[1;32mif\u001b[0m \u001b[0mx\u001b[0m \u001b[1;32min\u001b[0m \u001b[0mstates\u001b[0m \u001b[1;32melse\u001b[0m \u001b[0mx\u001b[0m\u001b[1;33m)\u001b[0m\u001b[1;33m\u001b[0m\u001b[1;33m\u001b[0m\u001b[0m\n\u001b[0m\u001b[0;32m      3\u001b[0m \u001b[1;31m# Group by the Geographic Area and calculate the mean for poverty_rate\u001b[0m\u001b[1;33m\u001b[0m\u001b[1;33m\u001b[0m\u001b[1;33m\u001b[0m\u001b[0m\n\u001b[0;32m      4\u001b[0m \u001b[0mstates_poverty_level\u001b[0m \u001b[1;33m=\u001b[0m \u001b[0mstates_poverty_level\u001b[0m\u001b[1;33m.\u001b[0m\u001b[0mgroupby\u001b[0m\u001b[1;33m(\u001b[0m\u001b[1;33m[\u001b[0m\u001b[1;34m'Geographic_Area'\u001b[0m\u001b[1;33m]\u001b[0m\u001b[1;33m)\u001b[0m\u001b[1;33m.\u001b[0m\u001b[0mmean\u001b[0m\u001b[1;33m(\u001b[0m\u001b[1;33m)\u001b[0m\u001b[1;33m.\u001b[0m\u001b[0mreset_index\u001b[0m\u001b[1;33m(\u001b[0m\u001b[1;33m)\u001b[0m\u001b[1;33m\u001b[0m\u001b[1;33m\u001b[0m\u001b[0m\n",
      "\u001b[1;32mC:\\ProgramData\\Anaconda3\\lib\\site-packages\\pandas\\core\\frame.py\u001b[0m in \u001b[0;36m__getitem__\u001b[1;34m(self, key)\u001b[0m\n\u001b[0;32m   2686\u001b[0m             \u001b[1;32mreturn\u001b[0m \u001b[0mself\u001b[0m\u001b[1;33m.\u001b[0m\u001b[0m_getitem_multilevel\u001b[0m\u001b[1;33m(\u001b[0m\u001b[0mkey\u001b[0m\u001b[1;33m)\u001b[0m\u001b[1;33m\u001b[0m\u001b[1;33m\u001b[0m\u001b[0m\n\u001b[0;32m   2687\u001b[0m         \u001b[1;32melse\u001b[0m\u001b[1;33m:\u001b[0m\u001b[1;33m\u001b[0m\u001b[1;33m\u001b[0m\u001b[0m\n\u001b[1;32m-> 2688\u001b[1;33m             \u001b[1;32mreturn\u001b[0m \u001b[0mself\u001b[0m\u001b[1;33m.\u001b[0m\u001b[0m_getitem_column\u001b[0m\u001b[1;33m(\u001b[0m\u001b[0mkey\u001b[0m\u001b[1;33m)\u001b[0m\u001b[1;33m\u001b[0m\u001b[1;33m\u001b[0m\u001b[0m\n\u001b[0m\u001b[0;32m   2689\u001b[0m \u001b[1;33m\u001b[0m\u001b[0m\n\u001b[0;32m   2690\u001b[0m     \u001b[1;32mdef\u001b[0m \u001b[0m_getitem_column\u001b[0m\u001b[1;33m(\u001b[0m\u001b[0mself\u001b[0m\u001b[1;33m,\u001b[0m \u001b[0mkey\u001b[0m\u001b[1;33m)\u001b[0m\u001b[1;33m:\u001b[0m\u001b[1;33m\u001b[0m\u001b[1;33m\u001b[0m\u001b[0m\n",
      "\u001b[1;32mC:\\ProgramData\\Anaconda3\\lib\\site-packages\\pandas\\core\\frame.py\u001b[0m in \u001b[0;36m_getitem_column\u001b[1;34m(self, key)\u001b[0m\n\u001b[0;32m   2693\u001b[0m         \u001b[1;31m# get column\u001b[0m\u001b[1;33m\u001b[0m\u001b[1;33m\u001b[0m\u001b[1;33m\u001b[0m\u001b[0m\n\u001b[0;32m   2694\u001b[0m         \u001b[1;32mif\u001b[0m \u001b[0mself\u001b[0m\u001b[1;33m.\u001b[0m\u001b[0mcolumns\u001b[0m\u001b[1;33m.\u001b[0m\u001b[0mis_unique\u001b[0m\u001b[1;33m:\u001b[0m\u001b[1;33m\u001b[0m\u001b[1;33m\u001b[0m\u001b[0m\n\u001b[1;32m-> 2695\u001b[1;33m             \u001b[1;32mreturn\u001b[0m \u001b[0mself\u001b[0m\u001b[1;33m.\u001b[0m\u001b[0m_get_item_cache\u001b[0m\u001b[1;33m(\u001b[0m\u001b[0mkey\u001b[0m\u001b[1;33m)\u001b[0m\u001b[1;33m\u001b[0m\u001b[1;33m\u001b[0m\u001b[0m\n\u001b[0m\u001b[0;32m   2696\u001b[0m \u001b[1;33m\u001b[0m\u001b[0m\n\u001b[0;32m   2697\u001b[0m         \u001b[1;31m# duplicate columns & possible reduce dimensionality\u001b[0m\u001b[1;33m\u001b[0m\u001b[1;33m\u001b[0m\u001b[1;33m\u001b[0m\u001b[0m\n",
      "\u001b[1;32mC:\\ProgramData\\Anaconda3\\lib\\site-packages\\pandas\\core\\generic.py\u001b[0m in \u001b[0;36m_get_item_cache\u001b[1;34m(self, item)\u001b[0m\n\u001b[0;32m   2487\u001b[0m         \u001b[0mres\u001b[0m \u001b[1;33m=\u001b[0m \u001b[0mcache\u001b[0m\u001b[1;33m.\u001b[0m\u001b[0mget\u001b[0m\u001b[1;33m(\u001b[0m\u001b[0mitem\u001b[0m\u001b[1;33m)\u001b[0m\u001b[1;33m\u001b[0m\u001b[1;33m\u001b[0m\u001b[0m\n\u001b[0;32m   2488\u001b[0m         \u001b[1;32mif\u001b[0m \u001b[0mres\u001b[0m \u001b[1;32mis\u001b[0m \u001b[1;32mNone\u001b[0m\u001b[1;33m:\u001b[0m\u001b[1;33m\u001b[0m\u001b[1;33m\u001b[0m\u001b[0m\n\u001b[1;32m-> 2489\u001b[1;33m             \u001b[0mvalues\u001b[0m \u001b[1;33m=\u001b[0m \u001b[0mself\u001b[0m\u001b[1;33m.\u001b[0m\u001b[0m_data\u001b[0m\u001b[1;33m.\u001b[0m\u001b[0mget\u001b[0m\u001b[1;33m(\u001b[0m\u001b[0mitem\u001b[0m\u001b[1;33m)\u001b[0m\u001b[1;33m\u001b[0m\u001b[1;33m\u001b[0m\u001b[0m\n\u001b[0m\u001b[0;32m   2490\u001b[0m             \u001b[0mres\u001b[0m \u001b[1;33m=\u001b[0m \u001b[0mself\u001b[0m\u001b[1;33m.\u001b[0m\u001b[0m_box_item_values\u001b[0m\u001b[1;33m(\u001b[0m\u001b[0mitem\u001b[0m\u001b[1;33m,\u001b[0m \u001b[0mvalues\u001b[0m\u001b[1;33m)\u001b[0m\u001b[1;33m\u001b[0m\u001b[1;33m\u001b[0m\u001b[0m\n\u001b[0;32m   2491\u001b[0m             \u001b[0mcache\u001b[0m\u001b[1;33m[\u001b[0m\u001b[0mitem\u001b[0m\u001b[1;33m]\u001b[0m \u001b[1;33m=\u001b[0m \u001b[0mres\u001b[0m\u001b[1;33m\u001b[0m\u001b[1;33m\u001b[0m\u001b[0m\n",
      "\u001b[1;32mC:\\ProgramData\\Anaconda3\\lib\\site-packages\\pandas\\core\\internals.py\u001b[0m in \u001b[0;36mget\u001b[1;34m(self, item, fastpath)\u001b[0m\n\u001b[0;32m   4113\u001b[0m \u001b[1;33m\u001b[0m\u001b[0m\n\u001b[0;32m   4114\u001b[0m             \u001b[1;32mif\u001b[0m \u001b[1;32mnot\u001b[0m \u001b[0misna\u001b[0m\u001b[1;33m(\u001b[0m\u001b[0mitem\u001b[0m\u001b[1;33m)\u001b[0m\u001b[1;33m:\u001b[0m\u001b[1;33m\u001b[0m\u001b[1;33m\u001b[0m\u001b[0m\n\u001b[1;32m-> 4115\u001b[1;33m                 \u001b[0mloc\u001b[0m \u001b[1;33m=\u001b[0m \u001b[0mself\u001b[0m\u001b[1;33m.\u001b[0m\u001b[0mitems\u001b[0m\u001b[1;33m.\u001b[0m\u001b[0mget_loc\u001b[0m\u001b[1;33m(\u001b[0m\u001b[0mitem\u001b[0m\u001b[1;33m)\u001b[0m\u001b[1;33m\u001b[0m\u001b[1;33m\u001b[0m\u001b[0m\n\u001b[0m\u001b[0;32m   4116\u001b[0m             \u001b[1;32melse\u001b[0m\u001b[1;33m:\u001b[0m\u001b[1;33m\u001b[0m\u001b[1;33m\u001b[0m\u001b[0m\n\u001b[0;32m   4117\u001b[0m                 \u001b[0mindexer\u001b[0m \u001b[1;33m=\u001b[0m \u001b[0mnp\u001b[0m\u001b[1;33m.\u001b[0m\u001b[0marange\u001b[0m\u001b[1;33m(\u001b[0m\u001b[0mlen\u001b[0m\u001b[1;33m(\u001b[0m\u001b[0mself\u001b[0m\u001b[1;33m.\u001b[0m\u001b[0mitems\u001b[0m\u001b[1;33m)\u001b[0m\u001b[1;33m)\u001b[0m\u001b[1;33m[\u001b[0m\u001b[0misna\u001b[0m\u001b[1;33m(\u001b[0m\u001b[0mself\u001b[0m\u001b[1;33m.\u001b[0m\u001b[0mitems\u001b[0m\u001b[1;33m)\u001b[0m\u001b[1;33m]\u001b[0m\u001b[1;33m\u001b[0m\u001b[1;33m\u001b[0m\u001b[0m\n",
      "\u001b[1;32mC:\\ProgramData\\Anaconda3\\lib\\site-packages\\pandas\\core\\indexes\\base.py\u001b[0m in \u001b[0;36mget_loc\u001b[1;34m(self, key, method, tolerance)\u001b[0m\n\u001b[0;32m   3078\u001b[0m                 \u001b[1;32mreturn\u001b[0m \u001b[0mself\u001b[0m\u001b[1;33m.\u001b[0m\u001b[0m_engine\u001b[0m\u001b[1;33m.\u001b[0m\u001b[0mget_loc\u001b[0m\u001b[1;33m(\u001b[0m\u001b[0mkey\u001b[0m\u001b[1;33m)\u001b[0m\u001b[1;33m\u001b[0m\u001b[1;33m\u001b[0m\u001b[0m\n\u001b[0;32m   3079\u001b[0m             \u001b[1;32mexcept\u001b[0m \u001b[0mKeyError\u001b[0m\u001b[1;33m:\u001b[0m\u001b[1;33m\u001b[0m\u001b[1;33m\u001b[0m\u001b[0m\n\u001b[1;32m-> 3080\u001b[1;33m                 \u001b[1;32mreturn\u001b[0m \u001b[0mself\u001b[0m\u001b[1;33m.\u001b[0m\u001b[0m_engine\u001b[0m\u001b[1;33m.\u001b[0m\u001b[0mget_loc\u001b[0m\u001b[1;33m(\u001b[0m\u001b[0mself\u001b[0m\u001b[1;33m.\u001b[0m\u001b[0m_maybe_cast_indexer\u001b[0m\u001b[1;33m(\u001b[0m\u001b[0mkey\u001b[0m\u001b[1;33m)\u001b[0m\u001b[1;33m)\u001b[0m\u001b[1;33m\u001b[0m\u001b[1;33m\u001b[0m\u001b[0m\n\u001b[0m\u001b[0;32m   3081\u001b[0m \u001b[1;33m\u001b[0m\u001b[0m\n\u001b[0;32m   3082\u001b[0m         \u001b[0mindexer\u001b[0m \u001b[1;33m=\u001b[0m \u001b[0mself\u001b[0m\u001b[1;33m.\u001b[0m\u001b[0mget_indexer\u001b[0m\u001b[1;33m(\u001b[0m\u001b[1;33m[\u001b[0m\u001b[0mkey\u001b[0m\u001b[1;33m]\u001b[0m\u001b[1;33m,\u001b[0m \u001b[0mmethod\u001b[0m\u001b[1;33m=\u001b[0m\u001b[0mmethod\u001b[0m\u001b[1;33m,\u001b[0m \u001b[0mtolerance\u001b[0m\u001b[1;33m=\u001b[0m\u001b[0mtolerance\u001b[0m\u001b[1;33m)\u001b[0m\u001b[1;33m\u001b[0m\u001b[1;33m\u001b[0m\u001b[0m\n",
      "\u001b[1;32mpandas\\_libs\\index.pyx\u001b[0m in \u001b[0;36mpandas._libs.index.IndexEngine.get_loc\u001b[1;34m()\u001b[0m\n",
      "\u001b[1;32mpandas\\_libs\\index.pyx\u001b[0m in \u001b[0;36mpandas._libs.index.IndexEngine.get_loc\u001b[1;34m()\u001b[0m\n",
      "\u001b[1;32mpandas\\_libs\\hashtable_class_helper.pxi\u001b[0m in \u001b[0;36mpandas._libs.hashtable.PyObjectHashTable.get_item\u001b[1;34m()\u001b[0m\n",
      "\u001b[1;32mpandas\\_libs\\hashtable_class_helper.pxi\u001b[0m in \u001b[0;36mpandas._libs.hashtable.PyObjectHashTable.get_item\u001b[1;34m()\u001b[0m\n",
      "\u001b[1;31mKeyError\u001b[0m: 'Geographic_Area'"
     ]
    }
   ],
   "source": [
    "# Change abbreviations of states to state names\n",
    "states_poverty_level['Geographic_Area'] = povertyLevel_df['Geographic_Area'].apply(lambda x : states[x] if x in states else x)\n",
    "# Group by the Geographic Area and calculate the mean for poverty_rate\n",
    "states_poverty_level = states_poverty_level.groupby(['Geographic_Area']).mean().reset_index()"
   ]
  },
  {
   "cell_type": "code",
   "execution_count": null,
   "metadata": {},
   "outputs": [],
   "source": [
    "# Sort by poverty_rate\n",
    "states_poverty_level = states_poverty_level.sort_values(by=['poverty_rate'], ascending=False)\n",
    "# Create the labels\n",
    "Labels = states_poverty_level['Geographic Area'].tolist()\n",
    "y_pos = np.arange(len(Labels))\n",
    "# Get the values of how many were killed of each gender\n",
    "performance = states_poverty_level['poverty_rate'].tolist()\n",
    "\n",
    "# Create the bar plot\n",
    "plt.figure(figsize = (15, 8))\n",
    "plt.bar(y_pos, performance, align='center', alpha=0.5, color='gray')\n",
    "plt.xticks(y_pos, Labels, rotation=90)\n",
    "plt.ylabel('Poverty rate percentage')\n",
    "plt.title('Poverty rating of each state')\n",
    " \n",
    "plt.show()\n"
   ]
  },
  {
   "cell_type": "markdown",
   "metadata": {},
   "source": [
    "By looking at the bar plot above we can see there is significant difference between the top and lowest states regarding poverty level, if we look at Mississippi and New Jersey for example there is around 18\\% difference between those two states."
   ]
  },
  {
   "cell_type": "markdown",
   "metadata": {},
   "source": [
    "### Is it better to live in a place with lower poverty rate regarding police shootings?"
   ]
  },
  {
   "cell_type": "markdown",
   "metadata": {},
   "source": [
    "In this section we will take use the information we have gather thusfar to figure out if there is any correlation between poverty rate and the number of fatal shootings. We will do so by making a scatter plot where the axis represent the poverty rate and number of fatalities in each state."
   ]
  },
  {
   "cell_type": "code",
   "execution_count": null,
   "metadata": {},
   "outputs": [],
   "source": [
    "# Sort shootings df by state, so that we can plot it correctly\n",
    "results_shootings = shootings_df\n",
    "results_shootings['state'] = shootings_df['state'].apply(lambda x  : states[x] if (x in states) else x)\n",
    "results_shootings = shootings_df.sort_values(by=['state'], ascending=True)\n",
    "# Sort poverty rate by state\n",
    "results_poverty_rate = states_poverty_level.sort_values(by=['Geographic Area'],ascending=True)"
   ]
  },
  {
   "cell_type": "code",
   "execution_count": null,
   "metadata": {},
   "outputs": [],
   "source": [
    "# Create dataframe for plotting\n",
    "df = pd.DataFrame({\n",
    "# Create the x-axis\n",
    "'Poverty_rate': results_poverty_rate['poverty_rate'].tolist(),\n",
    "# Create the y-axes\n",
    "'Number_of_fatal_police_shootings': results_shootings['state'].value_counts().sort_index().tolist(),\n",
    "# Create the labels for each state\n",
    "'group': results_shootings['state'].value_counts().sort_index().index.tolist()\n",
    "})\n",
    "# Setting the size of the scatter plot\n",
    "sns.set(rc={'figure.figsize':(20,10)})\n",
    "# Plotting the data points\n",
    "p1=sns.regplot(data=df, x=\"Poverty_rate\", y=\"Number_of_fatal_police_shootings\", fit_reg=False, marker=\"o\", color=\"skyblue\", scatter_kws={'s':200})\n",
    "\n",
    "# Add annotations for each states\n",
    "for line in range(0,df.shape[0]):\n",
    "     p1.text(df.Poverty_rate[line]+0.2, df.Number_of_fatal_police_shootings[line], df.group[line], horizontalalignment='left', size='medium', color='black', weight='semibold')"
   ]
  },
  {
   "cell_type": "markdown",
   "metadata": {},
   "source": [
    "By looking at the scatter above we can see that there is very little if any correlation between the poverty rate and the number of fatal police shootings, for example if we take a look at Mississippi and New Jersey there is very little difference in fatal police shootings even though the difference in poverty rate between the states is significant.  "
   ]
  },
  {
   "cell_type": "code",
   "execution_count": null,
   "metadata": {},
   "outputs": [],
   "source": []
  },
  {
   "cell_type": "code",
   "execution_count": null,
   "metadata": {},
   "outputs": [],
   "source": []
  },
  {
   "cell_type": "code",
   "execution_count": null,
   "metadata": {},
   "outputs": [],
   "source": []
  },
  {
   "cell_type": "markdown",
   "metadata": {},
   "source": [
    "# 5.0 (results) Where to live to avoid fatal police shooting"
   ]
  },
  {
   "cell_type": "code",
   "execution_count": null,
   "metadata": {},
   "outputs": [],
   "source": []
  },
  {
   "cell_type": "code",
   "execution_count": null,
   "metadata": {},
   "outputs": [],
   "source": []
  },
  {
   "cell_type": "code",
   "execution_count": null,
   "metadata": {},
   "outputs": [],
   "source": []
  },
  {
   "cell_type": "code",
   "execution_count": null,
   "metadata": {},
   "outputs": [],
   "source": []
  },
  {
   "cell_type": "code",
   "execution_count": null,
   "metadata": {},
   "outputs": [],
   "source": []
  },
  {
   "cell_type": "code",
   "execution_count": null,
   "metadata": {},
   "outputs": [],
   "source": []
  },
  {
   "cell_type": "code",
   "execution_count": null,
   "metadata": {},
   "outputs": [],
   "source": []
  },
  {
   "cell_type": "code",
   "execution_count": null,
   "metadata": {},
   "outputs": [],
   "source": []
  },
  {
   "cell_type": "code",
   "execution_count": null,
   "metadata": {},
   "outputs": [],
   "source": []
  },
  {
   "cell_type": "code",
   "execution_count": null,
   "metadata": {},
   "outputs": [],
   "source": []
  },
  {
   "cell_type": "code",
   "execution_count": null,
   "metadata": {},
   "outputs": [],
   "source": []
  },
  {
   "cell_type": "code",
   "execution_count": null,
   "metadata": {},
   "outputs": [],
   "source": []
  },
  {
   "cell_type": "code",
   "execution_count": null,
   "metadata": {},
   "outputs": [],
   "source": []
  },
  {
   "cell_type": "code",
   "execution_count": null,
   "metadata": {},
   "outputs": [],
   "source": []
  },
  {
   "cell_type": "code",
   "execution_count": null,
   "metadata": {},
   "outputs": [],
   "source": []
  },
  {
   "cell_type": "code",
   "execution_count": null,
   "metadata": {},
   "outputs": [],
   "source": []
  },
  {
   "cell_type": "code",
   "execution_count": null,
   "metadata": {},
   "outputs": [],
   "source": []
  },
  {
   "cell_type": "code",
   "execution_count": null,
   "metadata": {},
   "outputs": [],
   "source": []
  },
  {
   "cell_type": "code",
   "execution_count": null,
   "metadata": {},
   "outputs": [],
   "source": []
  },
  {
   "cell_type": "markdown",
   "metadata": {},
   "source": [
    "## 4.2 Visulation of police shootings, weapons"
   ]
  },
  {
   "cell_type": "markdown",
   "metadata": {},
   "source": [
    "#### 4.2.1 All Weapons"
   ]
  },
  {
   "cell_type": "code",
   "execution_count": null,
   "metadata": {},
   "outputs": [],
   "source": [
    "values = shootings_df['armed'].value_counts().values[:10]\n",
    "labels = shootings_df['armed'].value_counts().index.tolist()[:10]\n",
    "\n",
    "mpl_fig = plt.figure(figsize = (15, 7))\n",
    "ax = mpl_fig.add_subplot(111)\n",
    "\n",
    "ax.set_ylabel(\"Number of incidents\", fontsize=16)\n",
    "ax.set_xlabel(\"Weapon type\", fontsize=16)\n",
    "\n",
    "plt.bar(labels, values)"
   ]
  },
  {
   "cell_type": "markdown",
   "metadata": {},
   "source": [
    "#### Weapons sorted by age gap"
   ]
  },
  {
   "cell_type": "code",
   "execution_count": null,
   "metadata": {},
   "outputs": [],
   "source": [
    "ranges = [i for i in range(0,100,18)]\n",
    "#rangesLabels = [str(i) + '-' + str(i+10) for i in range(-25,35,10)]\n",
    "r=range(1,19)\n",
    "binCounter = pd.cut(shootings_df['age'],ranges).value_counts()\n",
    "print(binCounter)\n",
    "\n",
    "#values = shootings_df[shootings_df['age'] ==].value_counts().values[:10]\n",
    "labels = shootings_df['armed'].value_counts().index.tolist()[:10]\n",
    "print(shootings_df.shape)\n",
    "\n",
    "\n",
    "binCounter.plot.pie(figsize=(8, 8))"
   ]
  },
  {
   "cell_type": "code",
   "execution_count": null,
   "metadata": {},
   "outputs": [],
   "source": [
    "shootings_df.head(10)"
   ]
  },
  {
   "cell_type": "markdown",
   "metadata": {},
   "source": [
    "## 4.3 Visulation of police shootings sorted by age"
   ]
  },
  {
   "cell_type": "markdown",
   "metadata": {},
   "source": [
    "Lets take a better look at the age distribution"
   ]
  },
  {
   "cell_type": "code",
   "execution_count": null,
   "metadata": {},
   "outputs": [],
   "source": [
    "#### TODO ####\n",
    "\n",
    "\n",
    "# Age rates\n",
    "values = shootings_df['age'].value_counts()\n",
    "\n",
    "# Get the 10 most\n",
    "b = pd.DataFrame(values.head(10))\n",
    "b.apply(pd.value_counts).plot.pie(subplots=True)\n",
    "print(b)"
   ]
  },
  {
   "cell_type": "markdown",
   "metadata": {},
   "source": [
    "4.3 Visulation of police shootings poverty level for each state"
   ]
  }
 ],
 "metadata": {
  "kernelspec": {
   "display_name": "Python 3",
   "language": "python",
   "name": "python3"
  },
  "language_info": {
   "codemirror_mode": {
    "name": "ipython",
    "version": 3
   },
   "file_extension": ".py",
   "mimetype": "text/x-python",
   "name": "python",
   "nbconvert_exporter": "python",
   "pygments_lexer": "ipython3",
   "version": "3.7.1"
  }
 },
 "nbformat": 4,
 "nbformat_minor": 2
}
